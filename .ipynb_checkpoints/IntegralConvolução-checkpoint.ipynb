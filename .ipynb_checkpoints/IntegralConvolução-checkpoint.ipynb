{
  "cells": [
    {
      "cell_type": "markdown",
      "id": "e9182fc6-1a1b-4ca0-8c02-9213c912bf9e",
      "metadata": {
        "id": "e9182fc6-1a1b-4ca0-8c02-9213c912bf9e"
      },
      "source": [
        "# Integral de Convolução\n",
        "\n",
        "Renato Naville Watanabe"
      ]
    },
    {
      "cell_type": "markdown",
      "id": "940316f6-38bb-4532-a692-3ca60736001d",
      "metadata": {
        "id": "940316f6-38bb-4532-a692-3ca60736001d"
      },
      "source": [
        "Aqui, vamos desenvolver um método para encontrar a saída $y(t)$ de um sistema contínuo linear e invariante no tempo para uma entrada $x(t)$ qualquer.\n",
        "\n",
        "<img src=https://github.com/juju-ssol/SistemasESinais/blob/master/.ipynb_checkpoints/Imagens/contsis.png?raw=1 width=\"400\">"
      ]
    },
    {
      "cell_type": "markdown",
      "id": "e5885de7-b3aa-498c-976a-4cee43541b12",
      "metadata": {
        "id": "e5885de7-b3aa-498c-976a-4cee43541b12"
      },
      "source": [
        "Vamos considerar que conhecemos a  resposta ao impulso do sistema.\n",
        "\n",
        "<img src=https://github.com/juju-ssol/SistemasESinais/blob/master/.ipynb_checkpoints/Imagens/diagimpulsocont.png?raw=1 width=\"300\">"
      ]
    },
    {
      "cell_type": "markdown",
      "id": "51f78208-f2dd-41e3-b227-5ee2545737a8",
      "metadata": {
        "id": "51f78208-f2dd-41e3-b227-5ee2545737a8"
      },
      "source": [
        "Como o sistema é linear e invariante no tempo se usarmos como entrada o impulso de Dirac multiplicado por um valor real e atrasado em alguma quantidade de tempo ($\\alpha\\delta(t-T)$), a saída será $\\alpha h(t-T)$ (multiplicada pelo mesmo valor e atrsada da mesma quantidade de tempo).\n",
        "\n",
        "<img src=https://github.com/juju-ssol/SistemasESinais/blob/master/.ipynb_checkpoints/Imagens/diagimpulsodelaycont.png?raw=1 width=\"400\">"
      ]
    },
    {
      "cell_type": "markdown",
      "id": "32bda570-32ab-4aed-898c-77445c381440",
      "metadata": {
        "id": "32bda570-32ab-4aed-898c-77445c381440"
      },
      "source": [
        "Em sinais de tempo contínuo, pelo terorema da amostragem, podemos escrever o valor de $x(t)$ em algum instante específico como:\n",
        "\n",
        "$$x(\\tau) = x(\\tau)\\delta(t-\\tau)$$\n",
        "\n",
        "Então ao usar $x(\\tau)$ como entrada, a saída é $x(\\tau)h(t-\\tau)$\n",
        "\n",
        "<img src=https://github.com/juju-ssol/SistemasESinais/blob/master/.ipynb_checkpoints/Imagens/diagimpulsoamostracont.png?raw=1 width=\"400\">"
      ]
    },
    {
      "cell_type": "markdown",
      "id": "b35b5a64-66e2-4bd9-b395-71064bfb37cd",
      "metadata": {
        "tags": [],
        "id": "b35b5a64-66e2-4bd9-b395-71064bfb37cd"
      },
      "source": [
        "O sinal $x(t)$ todo pode ser escrito como a soma (integral, já que é um sinal contínuo) dos valores em cada instante. Então podemos reescrever o sinal $x(t)$ como:\n",
        "\n",
        "$$x(t) = \\int_{-\\infty}^\\infty x(\\tau)\\delta(t-\\tau)\\,d\\tau$$\n",
        "\n",
        "Ou seja, o sinal $x(t)$ é a integral de impulsos deslocados no tempo."
      ]
    },
    {
      "cell_type": "markdown",
      "id": "64cb7906-3f2d-4201-98d1-6792cc0b3f9f",
      "metadata": {
        "tags": [],
        "id": "64cb7906-3f2d-4201-98d1-6792cc0b3f9f"
      },
      "source": [
        "Então, considerando o exposto acima e o princípio da superposição que sistemas lineares e invariantes no tempo obedecem, temos que a saída do sistema será:\n",
        "\n",
        "\n",
        "$$y(t) = \\int_{-\\infty}^\\infty x(\\tau)h(t-\\tau)\\,d\\tau $$\n",
        "\n",
        "Esta relação está representada na imagem abaixo:\n",
        "\n",
        "<img src=https://github.com/juju-ssol/SistemasESinais/blob/master/.ipynb_checkpoints/Imagens/diagconvcont.png?raw=1 width=\"500\">\n",
        "\n",
        "\n",
        "Esta expressão é central no desenvolvimento da teoria de sistemas e sinais de tempo contínuo e recebe o nome de **integral de convolução**."
      ]
    },
    {
      "cell_type": "markdown",
      "id": "33799afc-7d0c-41a6-a13c-3f9bb37ecd78",
      "metadata": {
        "id": "33799afc-7d0c-41a6-a13c-3f9bb37ecd78"
      },
      "source": [
        "A integral de convolução é uma operação entre dois sinais (no caso acima $x(t)$ e $h(t)$) e é representada pelo operador *.\n",
        "\n",
        "$$y(t) = \\int_{-\\infty}^\\infty x(t)h(t-\\tau)\\,d\\tau = x(t)*h(t)$$\n",
        "\n",
        "Perceba que o símbolo * é apenas uma forma reduzida de representar a integral de convolução (nunca se deve confundir com a simples multiplicação dos valores de $x$ e $h$ no instante $t$)."
      ]
    },
    {
      "cell_type": "markdown",
      "id": "b9c9b2fd-4282-40f0-b881-cac006151900",
      "metadata": {
        "id": "b9c9b2fd-4282-40f0-b881-cac006151900"
      },
      "source": [
        "## Forma de calcular a integral de convolução\n",
        "\n"
      ]
    },
    {
      "cell_type": "markdown",
      "id": "4d16f828-8840-4fde-b9a5-5accb0f133da",
      "metadata": {
        "id": "4d16f828-8840-4fde-b9a5-5accb0f133da"
      },
      "source": [
        "### Método gráfico\n",
        "\n",
        "Esse método, por ser mais simples de se computar, é mais utilizado para calcular a convolução. Vamos voltar para a expressão da convolução:\n",
        "\n",
        "$$y(t) = x(t)*h(t) = \\int_{-\\infty}^\\infty x(t)h(t-\\tau)\\,d\\tau$$\n",
        "\n",
        "Podemos enxergar os sinais como sendo função de $\\tau$ ao invés de $t$. Então, para $t = 0$, temos os dois sinais a ser considerado: $x(t)$ e $h(-t)$ (a resposta ao impulso espelhada).\n",
        "\n",
        "---\n",
        "Vamos fazer a convolução entre\n",
        "\n",
        "$$x(t) = 2u(t) - 2u(t-1)$$\n",
        "\n",
        "e\n",
        "\n",
        "$$h(t) = tu(t) - tu(t-2)$$\n",
        "\n"
      ]
    },
    {
      "cell_type": "code",
      "execution_count": null,
      "id": "30e3e49f-075d-45fe-917d-e646b9008d01",
      "metadata": {
        "id": "30e3e49f-075d-45fe-917d-e646b9008d01",
        "outputId": "10f7d67f-af1d-4ab9-9d1d-cae62c41caaa"
      },
      "outputs": [
        {
          "data": {
            "text/html": [
              "<pre style=\"white-space:pre;overflow-x:auto;line-height:normal;font-family:Menlo,'DejaVu Sans Mono',consolas,'Courier New',monospace\">Manim Community <span style=\"color: #008000; text-decoration-color: #008000\">v0.17.3</span>\n",
              "\n",
              "</pre>\n"
            ],
            "text/plain": [
              "Manim Community \u001b[32mv0.\u001b[0m\u001b[32m17.3\u001b[0m\n",
              "\n"
            ]
          },
          "metadata": {},
          "output_type": "display_data"
        },
        {
          "name": "stderr",
          "output_type": "stream",
          "text": [
            "Bad pipe message: %s [b\"qW\\xfe\\xccQ'\\xb2j\\xb8\\x8dq\\xdc\\x17r=D:h \\x1c\\xf51\\x7f|\\xbe\\x18\\xd7\\xb3\\xfe\\x8e\\x92\\xed\\r\\xec\\xa8\\xfa\\xb4\\xe7\\xf4^^\\xeae\\xa8i\\x17\\xb6\\xb7\\x88_\\x99\\x00\\x08\\x13\\x02\\x13\\x03\\x13\\x01\\x00\\xff\\x01\\x00\\x00\\x8f\\x00\\x00\\x00\\x0e\\x00\\x0c\\x00\\x00\\t127.0.0.1\\x00\\x0b\\x00\\x04\\x03\\x00\\x01\\x02\\x00\\n\\x00\\x0c\\x00\\n\\x00\\x1d\\x00\\x17\\x00\\x1e\\x00\\x19\\x00\\x18\\x00#\\x00\\x00\\x00\\x16\\x00\\x00\\x00\\x17\\x00\\x00\\x00\\r\\x00\\x1e\\x00\\x1c\\x04\\x03\\x05\\x03\\x06\\x03\\x08\\x07\\x08\\x08\\x08\\t\\x08\\n\\x08\\x0b\\x08\"]\n",
            "Bad pipe message: %s [b'\\x05\\x08\\x06']\n",
            "Bad pipe message: %s [b'\\x05\\x01\\x06', b'']\n",
            "Bad pipe message: %s [b'\\x03\\x02\\x03\\x04\\x00-\\x00\\x02\\x01\\x01\\x003\\x00&\\x00$\\x00\\x1d\\x00 \\xe7\\x93RL\\xf5Z1\\x9f\\x07\\t8\\xa8\\x11\\xd4L\\x18L\\xdc$\\xbd\\xeb\\x93']\n",
            "Bad pipe message: %s [b\"M\\xe4 \\xa7\\x8c\\x0b@\\x92o&\\x9e\\x00\\x04\\x96\\xe4\\xc7\\x7f\\xf3\\x00\\x00|\\xc0,\\xc00\\x00\\xa3\\x00\\x9f\\xcc\\xa9\\xcc\\xa8\\xcc\\xaa\\xc0\\xaf\\xc0\\xad\\xc0\\xa3\\xc0\\x9f\\xc0]\\xc0a\\xc0W\\xc0S\\xc0+\\xc0/\\x00\\xa2\\x00\\x9e\\xc0\\xae\\xc0\\xac\\xc0\\xa2\\xc0\\x9e\\xc0\\\\\\xc0`\\xc0V\\xc0R\\xc0$\\xc0(\\x00k\\x00j\\xc0#\\xc0'\\x00g\\x00@\\xc0\\n\\xc0\\x14\\x009\\x008\\xc0\\t\\xc0\\x13\\x003\\x002\\x00\\x9d\\xc0\\xa1\\xc0\\x9d\\xc0Q\\x00\\x9c\\xc0\\xa0\\xc0\\x9c\\xc0P\\x00=\\x00<\\x005\\x00/\\x00\\x9a\\x00\\x99\\xc0\\x07\\xc0\\x11\\x00\\x96\\x00\\x05\\x00\\xff\\x01\\x00\\x00j\\x00\\x00\\x00\\x0e\\x00\\x0c\\x00\\x00\\t\"]\n",
            "Bad pipe message: %s [b'7.0.0.1\\x00\\x0b\\x00\\x04\\x03\\x00\\x01\\x02\\x00\\n\\x00\\x0c\\x00\\n\\x00\\x1d\\x00\\x17\\x00\\x1e\\x00\\x19\\x00\\x18\\x00#\\x00\\x00\\x00\\x16\\x00\\x00\\x00\\x17\\x00\\x00\\x00\\r\\x000\\x00']\n",
            "Bad pipe message: %s [b'\\x03\\x05\\x03\\x06\\x03\\x08\\x07\\x08\\x08\\x08\\t\\x08\\n\\x08\\x0b\\x08\\x04\\x08\\x05\\x08\\x06\\x04\\x01\\x05\\x01\\x06\\x01\\x03\\x03\\x02\\x03\\x03\\x01\\x02\\x01\\x03\\x02\\x02\\x02\\x04\\x02\\x05\\x02\\x06\\x02']\n",
            "Bad pipe message: %s [b'\\xed\\r\\x1br\\x8f\\x04H\\x93C\\xe5@\\xccU\\xbb\\x12\\xb6X\\xce\\x00\\x00>\\xc0\\x14\\xc0\\n\\x009\\x008\\x007\\x006\\xc0\\x0f\\xc0\\x05\\x005\\xc0\\x13\\xc0\\t\\x003\\x002\\x001\\x000\\xc0\\x0e\\xc0\\x04\\x00/\\x00\\x9a\\x00\\x99\\x00\\x98\\x00\\x97\\x00\\x96\\x00\\x07\\xc0\\x11\\xc0\\x07\\xc0\\x0c\\xc0\\x02\\x00\\x05\\x00\\x04\\x00\\xff\\x02\\x01\\x00\\x00C\\x00\\x00\\x00\\x0e\\x00\\x0c\\x00\\x00\\t127.0.0.1\\x00\\x0b\\x00\\x04\\x03\\x00\\x01\\x02\\x00\\n\\x00\\x1c\\x00\\x1a\\x00\\x17\\x00\\x19\\x00\\x1c\\x00']\n",
            "Bad pipe message: %s [b'\\x18\\x00\\x1a\\x00\\x16\\x00\\x0e\\x00\\r\\x00\\x0b\\x00\\x0c\\x00\\t\\x00\\n\\x00#\\x00\\x00\\x00\\x0f\\x00\\x01\\x01']\n",
            "Bad pipe message: %s [b'\\x1f\\xfbl\\x87\\x87\\x8bf\\xca\\x89\\xa5\\x17_\\x04u\\x86*\\x00\\x13\\x00\\x00\\xa2\\xc0\\x14\\xc0\\n\\x009\\x008\\x007\\x006\\x00\\x88\\x00\\x87\\x00\\x86\\x00\\x85\\xc0\\x19\\x00:']\n",
            "Bad pipe message: %s [b'e\\x9f\\xec_\\x8d\\x92\\xd8\\x05e\\xfa\\x9dQ\\xc6\\xe4\\xee\\xb7C\\x1d\\x00\\x00>\\xc0\\x14\\xc0\\n\\x009\\x008\\x007\\x00', b'\\x0f\\xc0\\x05\\x005\\xc0\\x13\\xc0\\t\\x003\\x002\\x001\\x000\\xc0\\x0e\\xc0\\x04\\x00/\\x00\\x9a\\x00\\x99\\x00\\x98\\x00\\x97\\x00\\x96\\x00\\x07\\xc0\\x11\\xc0\\x07\\xc0\\x0c\\xc0\\x02\\x00\\x05\\x00\\x04\\x00\\xff\\x02\\x01\\x00\\x00']\n",
            "Bad pipe message: %s [b'\\x00\\x00\\x0e\\x00\\x0c\\x00\\x00\\t127.0.0.1\\x00\\x0b\\x00\\x04\\x03\\x00\\x01\\x02\\x00\\n\\x00\\x1c\\x00\\x1a\\x00\\x17\\x00\\x19\\x00\\x1c\\x00\\x1b\\x00\\x18\\x00\\x1a\\x00\\x16\\x00\\x0e\\x00\\r\\x00\\x0b\\x00\\x0c\\x00\\t\\x00\\n\\x00#\\x00\\x00\\x00\\x0f\\x00\\x01\\x01']\n",
            "Bad pipe message: %s [b'\\xd6\\x87~\\x9e\\xb2\\xa1\\x9dmO\\xbb\\xa8\\xce/5>p\\xb4(\\x00\\x00\\xa2\\xc0\\x14\\xc0\\n\\x009\\x008\\x007\\x006\\x00\\x88\\x00\\x87\\x00\\x86\\x00\\x85\\xc0\\x19\\x00:\\x00\\x89\\xc0\\x0f\\xc0\\x05\\x005\\x00\\x84\\xc0\\x13\\xc0\\t\\x003\\x002\\x001\\x000\\x00\\x9a\\x00\\x99\\x00\\x98\\x00\\x97\\x00E\\x00D\\x00C\\x00B\\xc0\\x18\\x004\\x00\\x9b\\x00F\\xc0\\x0e\\xc0\\x04\\x00/\\x00\\x96\\x00A\\x00\\x07\\xc0\\x11\\xc0\\x07\\xc0\\x16\\x00\\x18\\xc0\\x0c\\xc0\\x02\\x00\\x05\\x00\\x04\\xc0\\x12\\xc0\\x08\\x00\\x16\\x00\\x13\\x00\\x10\\x00', b'\\x17\\x00\\x1b\\xc0\\r\\xc0\\x03\\x00\\n\\x00\\x15\\x00']\n",
            "Bad pipe message: %s [b'\\x0f\\x00\\x0c\\x00\\x1a\\x00\\t\\x00\\x14\\x00\\x11\\x00\\x19\\x00\\x08\\x00\\x06']\n",
            "Bad pipe message: %s [b'%\\xc5\\xd3\\x83\\xc5s!\\x06\\xc2\\x16\\xde\\x1c\\xd0X\\xa2\\xb3\\x8f6\\x00\\x00\\xa2\\xc0\\x14\\xc0\\n\\x00', b'8\\x007\\x006\\x00\\x88\\x00\\x87\\x00\\x86\\x00\\x85\\xc0\\x19\\x00:\\x00\\x89\\xc0\\x0f\\xc0\\x05\\x005\\x00\\x84\\xc0\\x13\\xc0\\t\\x003\\x002\\x001\\x000\\x00\\x9a\\x00\\x99\\x00\\x98\\x00\\x97\\x00E\\x00D\\x00C\\x00B\\xc0']\n",
            "Bad pipe message: %s [b'4\\x00\\x9b\\x00F\\xc0\\x0e\\xc0\\x04\\x00/\\x00\\x96\\x00A\\x00\\x07\\xc0\\x11\\xc0\\x07\\xc0\\x16']\n",
            "Bad pipe message: %s [b'\\xf2\\x07\\xb0,\\xcb\\xc9O\\xf6\\x89\\xb9\\xbct\\x1a\\xe6\\x8b|\"\\xe7\\x00\\x00\\xf4\\xc00\\xc0,\\xc0(\\xc0$\\xc0\\x14\\xc0\\n\\x00\\xa5\\x00\\xa3\\x00\\xa1\\x00\\x9f\\x00k\\x00j\\x00i\\x00h']\n"
          ]
        }
      ],
      "source": [
        "import sympy as sym\n",
        "import numpy as np\n",
        "from manim import *\n",
        "from sympy.plotting import PlotGrid\n",
        "config.media_width = \"100%\"\n",
        "config.verbosity = \"WARNING\""
      ]
    },
    {
      "cell_type": "code",
      "execution_count": null,
      "id": "a3218815-6978-4cfd-84f2-93374af6a322",
      "metadata": {
        "id": "a3218815-6978-4cfd-84f2-93374af6a322",
        "outputId": "8b40c4d0-1bd5-4614-9518-4f82e802d4e3"
      },
      "outputs": [
        {
          "name": "stderr",
          "output_type": "stream",
          "text": [
            "                                                                                                            \r"
          ]
        },
        {
          "data": {
            "text/html": [
              "<video src=\"media/jupyter/IntegralConvolution@2023-05-15@15-45-23.mp4\" controls autoplay loop style=\"max-width: 100%;\"  >\n",
              "      Your browser does not support the <code>video</code> element.\n",
              "    </video>"
            ],
            "text/plain": [
              "<IPython.core.display.Video object>"
            ]
          },
          "metadata": {},
          "output_type": "display_data"
        }
      ],
      "source": [
        "%%manim -qm IntegralConvolution\n",
        "\n",
        "def signal_1(t):\n",
        "    if 1 >= t >= 0:\n",
        "        return 2\n",
        "    else:\n",
        "        return 0\n",
        "\n",
        "def signal_2(t):\n",
        "    if 2 >= t>= 0:\n",
        "        return t\n",
        "    else:\n",
        "        return 0\n",
        "\n",
        "class IntegralConvolution(Scene):\n",
        "    def construct(self):\n",
        "\n",
        "        axes1 = Axes(\n",
        "            x_range=[-5, 5, 1],\n",
        "            y_range=[0, 2, 1],\n",
        "            x_length=10,\n",
        "            y_length=1,\n",
        "            axis_config={\n",
        "                \"color\": WHITE,\n",
        "                \"stroke_width\": 2,\n",
        "                \"include_tip\": False,\n",
        "            },\n",
        "            x_axis_config={\n",
        "                \"numbers_to_include\": np.arange(-5, 6)\n",
        "            },\n",
        "            y_axis_config={\n",
        "                \"numbers_to_include\": np.arange(0, 2, 1),\n",
        "            },\n",
        "        ).move_to(3.1*UP)\n",
        "        self.play(Create(axes1))\n",
        "\n",
        "\n",
        "        line_1 = axes1.plot(lambda x: signal_1(x), color=BLUE,\n",
        "                            x_range=[-5,5, 0.01], use_smoothing=False)\n",
        "        tex1 = MathTex('x(\\\\tau)').move_to((-3.7,3.7,0))\n",
        "        self.play(Create(line_1), Create(tex1))\n",
        "\n",
        "        axes2 = Axes(\n",
        "            x_range=[-5, 5, 1],\n",
        "            y_range=[0, 2, 1],\n",
        "            x_length=10,\n",
        "            y_length=1,\n",
        "            axis_config={\n",
        "                \"color\": WHITE,\n",
        "                \"stroke_width\": 2,\n",
        "                \"include_tip\": False,\n",
        "            },\n",
        "            x_axis_config={\n",
        "                \"numbers_to_include\": np.arange(-5, 6)\n",
        "            },\n",
        "            y_axis_config={\n",
        "                \"numbers_to_include\": np.arange(0, 2, 1),\n",
        "            },\n",
        "        ).move_to(1.4*UP)\n",
        "        self.play(Create(axes2))\n",
        "        line_2 = axes2.plot(lambda x: signal_2(x), color=RED,\n",
        "                            x_range=[-5, 5, 0.01], use_smoothing=False)\n",
        "        tex2 = MathTex('h(\\\\tau)').move_to((-3.7,1.7,0))\n",
        "        self.play(Create(line_2), Create(tex2))\n",
        "        line_3 = axes2.plot(lambda x: signal_2(-x), color=RED,\n",
        "                            x_range=[-5, 5, 0.01], use_smoothing=False)\n",
        "        tex3 = MathTex('h(\\\\tau)').move_to((-3.7,1.7,0))\n",
        "        self.play(ReplacementTransform(line_2,line_3),\n",
        "                  ReplacementTransform(tex2, tex3))\n",
        "        axes3 = Axes(\n",
        "            x_range=[-5, 5, 1],\n",
        "            y_range=[0, 2, 2],\n",
        "            x_length=10,\n",
        "            y_length=1,\n",
        "            axis_config={\n",
        "                \"color\": WHITE,\n",
        "                \"stroke_width\": 2,\n",
        "                \"include_tip\": False,\n",
        "            },\n",
        "            x_axis_config={\n",
        "                \"numbers_to_include\": np.arange(-5, 6)\n",
        "            },\n",
        "            y_axis_config={\n",
        "                \"numbers_to_include\": np.arange(0, 2, 1),\n",
        "            },\n",
        "        ).move_to(0.5*DOWN)\n",
        "        self.play(Create(axes3))\n",
        "\n",
        "        axes4 = Axes(\n",
        "            x_range=[-5, 5, 1],\n",
        "            y_range=[0, 2, 1],\n",
        "            x_length=10,\n",
        "            y_length=1,\n",
        "            axis_config={\n",
        "                \"color\": WHITE,\n",
        "                \"stroke_width\": 2,\n",
        "                \"include_tip\": False,\n",
        "            },\n",
        "            x_axis_config={\n",
        "                \"numbers_to_include\": np.arange(-5, 6)\n",
        "            },\n",
        "            y_axis_config={\n",
        "                \"numbers_to_include\": np.arange(0, 2, 1),\n",
        "            },\n",
        "        ).move_to(2.4*DOWN)\n",
        "        self.play(Create(axes4))\n",
        "\n",
        "        dx = 0.01\n",
        "        x = np.arange(-5,5, dx)\n",
        "        sig1 = np.zeros_like(x)\n",
        "        sig2 = np.zeros_like(x)\n",
        "        line_4 = axes3.plot_line_graph(x, sig1*sig2,\n",
        "                                       add_vertex_dots=False,\n",
        "                                       line_color=GREEN)\n",
        "\n",
        "        tex4 = MathTex('x(\\\\tau)h(t-\\\\tau)').move_to((-3.7,-0.3,0))\n",
        "        tex5 = MathTex('\\int_{-\\infty}^\\infty x(\\\\tau)h(t-\\\\tau)\\,d\\\\tau').move_to((-3.7,-2.3,0))\n",
        "        tex6 = MathTex('h(t-\\\\tau)').move_to((-3.7,1.7,0))\n",
        "\n",
        "\n",
        "        # area = Polygon([-5,0,0], color=GREEN)\n",
        "        self.play(Create(line_4), Create(tex4),\n",
        "                  Create(tex5), ReplacementTransform(tex3, tex6),\n",
        "                  )\n",
        "        sigconv = []\n",
        "\n",
        "\n",
        "\n",
        "        for t in np.arange(-5, 5, 0.1):\n",
        "\n",
        "\n",
        "\n",
        "            for i in range(len(x)):\n",
        "                sig1[i] = signal_1(x[i])\n",
        "                sig2[i] = signal_2(t-x[i])\n",
        "            conv = np.sum(dx*(sig1*sig2))\n",
        "            sigconv.append(conv)\n",
        "            line_5 = axes3.plot_line_graph(x, sig1*sig2,\n",
        "                                           add_vertex_dots=False,\n",
        "                                           line_color=GREEN)\n",
        "            listpoints_area = [[-5,0,0]]\n",
        "            for j in range(len(sig1)):\n",
        "                listpoints_area.append([j*dx-5, sig1[j]*sig2[j], 0])\n",
        "            listpoints_area.append([5, 0,0])\n",
        "\n",
        "            #area1 = Polygon(*listpoints_area, color=GREEN)\n",
        "\n",
        "            line_6 = axes4.plot_line_graph(x[:10*len(sigconv):10],\n",
        "                                           np.array(sigconv),\n",
        "                                           add_vertex_dots=False,\n",
        "                                           line_color=GOLD)\n",
        "            self.play(line_3.animate.move_to(axes2.c2p(*(t, 1,0))),\n",
        "                      Transform(line_4, line_5),\n",
        "                      Create(line_6),\n",
        "                      run_time=0.3)\n",
        "\n",
        "\n",
        "\n",
        "        self.wait(5)"
      ]
    },
    {
      "cell_type": "markdown",
      "id": "831aa472-4690-4008-b3f2-3f94a1cf67bb",
      "metadata": {
        "id": "831aa472-4690-4008-b3f2-3f94a1cf67bb"
      },
      "source": [
        "\n",
        "---\n",
        "#### Resumo dos passos\n",
        "\n",
        "1 - substituir $t$ por $\\tau$ e fazer o gráfico de $x(\\tau)$ e $h(-\\tau)$.\n",
        "\n",
        "\n",
        "2 - Deslocar $h[-\\tau]$ para a direita em algumas unidades de tempo para gerar $h(t-\\tau)$ até um ponto em que $h(t-\\tau)$ não se sobreponha a $x(\\tau)$. Multiplique os dois sinais e calcule a integral (área) do sinal resultante para encontrar o valor de $y(t)$.\n",
        "\n",
        "3 - Continue deslocando $h(-\\tau)$ para a direita, multiplicando o sinal $x(t)$ com a resposta ao impulso deslocada e calculando a sua integral  para encontrar os valores de $y(t)$. Continue fazendo isso até não ter mais sobreposição entre os sinais."
      ]
    },
    {
      "cell_type": "markdown",
      "id": "ca53782f",
      "metadata": {
        "id": "ca53782f"
      },
      "source": [
        "### Pelo cálculo da integral\n",
        "\n",
        "Muitas vezes, é mais fácil calcular a integral de convolução diretamente, sem recorrer ao método gráfico. Por exemplo:\n",
        "\n",
        "$$x(t) = e^{-bt}u(t)$$\n",
        "\n",
        "e\n",
        "\n",
        "$$h(t) = e^{-at}u(t)$$\n",
        "\n",
        "A integral de convolução entre esses dois sinais é:\n",
        "\n",
        "$$x(t)*h(t) = \\int_{-\\infty}^\\infty e^{-b\\tau}u(\\tau)e^{-a(t-\\tau)}u(t-\\tau)\\,d\\tau=\\int_{0}^t e^{-b\\tau}e^{-a(t-\\tau)}\\,d\\tau = e^{at}\\int_{0}^t e^{-b\\tau}e^{a\\tau)}\\,d\\tau $$\n",
        "\n",
        "$$x(t)*h(t) = e^{at}\\int_{0}^t e^{(a-b)\\tau}\\,d\\tau = \\left. e^{at}\\left( \\frac{e^{(a-b)\\tau}}{a-b}\\right)\\right|_{\\tau=0}^t\\frac{e^{-bt}-e^{-at}}{a-b}$$\n",
        "\n",
        "Para $a=2$ e $b=5$, o gráfico dessa convolução é:"
      ]
    },
    {
      "cell_type": "code",
      "execution_count": null,
      "id": "9ab05fbe",
      "metadata": {
        "id": "9ab05fbe",
        "outputId": "0ee3f65d-ea6d-4832-ed16-4eef3dc7bafb"
      },
      "outputs": [
        {
          "data": {
            "image/png": "[encoded data removed]",
            "text/plain": [
              "<Figure size 640x480 with 1 Axes>"
            ]
          },
          "metadata": {},
          "output_type": "display_data"
        },
        {
          "data": {
            "text/plain": [
              "<sympy.plotting.plot.Plot at 0x7fd124cd1070>"
            ]
          },
          "execution_count": 6,
          "metadata": {},
          "output_type": "execute_result"
        }
      ],
      "source": [
        "t = sym.symbols('t')\n",
        "a = 2\n",
        "b = 5\n",
        "y = (sym.exp(-b*t) - sym.exp(-a*t))/(a-b)\n",
        "sym.plot(y, (t, 0, 6))"
      ]
    },
    {
      "cell_type": "markdown",
      "id": "d197a7b4",
      "metadata": {
        "id": "d197a7b4"
      },
      "source": [
        "É claro que poderíamos ter feito essa convolução com o método gráfico também."
      ]
    },
    {
      "cell_type": "code",
      "execution_count": null,
      "id": "4e40e3ac",
      "metadata": {
        "id": "4e40e3ac",
        "outputId": "b8bb652a-c572-4773-965c-0d3318905ee5"
      },
      "outputs": [
        {
          "name": "stderr",
          "output_type": "stream",
          "text": [
            "                                                                                                            \r"
          ]
        },
        {
          "data": {
            "text/html": [
              "<video src=\"media/jupyter/IntegralConvolution1@2023-05-15@19-47-31.mp4\" controls autoplay loop style=\"max-width: 100%;\"  >\n",
              "      Your browser does not support the <code>video</code> element.\n",
              "    </video>"
            ],
            "text/plain": [
              "<IPython.core.display.Video object>"
            ]
          },
          "metadata": {},
          "output_type": "display_data"
        },
        {
          "name": "stderr",
          "output_type": "stream",
          "text": [
            "Bad pipe message: %s [b'\\xd5~\\x93;1\\xc7t\\xa4e\\x9d\\x8bqJSLJ{\\xae ]\\xb5\\xec\\xfc\\xf5[\\x02\\x03]Yz\\xc2\\x88K\\rg1~\\x9a\\x845\\x11\\x91\\xbe])\\x1f \\xde\\xd6\\xab\\x81\\x00\\x08\\x13\\x02\\x13\\x03\\x13\\x01\\x00\\xff\\x01\\x00\\x00', b'\\x00\\x00\\x0e\\x00\\x0c\\x00\\x00\\t127.0.0.1\\x00\\x0b\\x00\\x04\\x03\\x00\\x01\\x02\\x00\\n\\x00\\x0c\\x00\\n\\x00\\x1d\\x00\\x17\\x00\\x1e\\x00\\x19\\x00\\x18\\x00#\\x00\\x00\\x00\\x16\\x00\\x00\\x00\\x17\\x00\\x00\\x00\\r\\x00\\x1e\\x00\\x1c\\x04\\x03\\x05\\x03\\x06\\x03\\x08\\x07\\x08\\x08\\x08\\t\\x08\\n\\x08\\x0b\\x08\\x04\\x08\\x05\\x08\\x06\\x04\\x01\\x05\\x01\\x06\\x01\\x00+\\x00\\x03\\x02\\x03\\x04\\x00-\\x00\\x02\\x01\\x01\\x003\\x00&\\x00$\\x00\\x1d\\x00 \\x81\\xb8s\\x88e\\x85\\xd8\\xaco\\x88G\\x17\\xd3^\\x881\\x16(\\x1e\\xd0\\xfd\\xc5\\xc8lY71K\\xb6\\x03uI']\n",
            "Bad pipe message: %s [b'\\xe8\\xf2\\xc8\\xf4\\xdaC\\xcf(\\xb0\\xde\\xd9\\xf1\\xc3sm\\x8c\\xf3\\x85 \\x1dEII\\x0c \\xfa\\xcc\\xe5\\x14\\xf3\\xea3\\x99_\\x19\\x93d\\xd6\\xc5-\\xb3\\ta(\\x0c\\xa8\\x11\\x03\\xbcr\\x19\\x00\\x08\\x13\\x02\\x13\\x03\\x13\\x01\\x00\\xff\\x01\\x00\\x00\\x8f\\x00\\x00\\x00\\x0e\\x00\\x0c\\x00\\x00\\t127.', b'0.1\\x00\\x0b\\x00\\x04\\x03\\x00\\x01\\x02\\x00\\n\\x00\\x0c\\x00\\n\\x00\\x1d\\x00\\x17\\x00\\x1e\\x00\\x19\\x00\\x18\\x00#\\x00\\x00\\x00\\x16\\x00\\x00\\x00\\x17\\x00\\x00\\x00\\r\\x00\\x1e\\x00\\x1c\\x04\\x03']\n",
            "Bad pipe message: %s [b'\\x06\\x03\\x08\\x07', b'\\x08\\t\\x08\\n\\x08\\x0b\\x08']\n",
            "Bad pipe message: %s [b'\\x05\\x08\\x06']\n",
            "Bad pipe message: %s [b'\\x05\\x01\\x06', b'']\n",
            "Bad pipe message: %s [b'\\x03\\x02\\x03\\x04\\x00-\\x00\\x02\\x01\\x01\\x003\\x00&\\x00$\\x00\\x1d\\x00 \\xb7\\xcd\\x1c\\xf0\\x16\\xf5\\xb8oY\\x9e\\xcd\\xd6\\xc7\\x9bY]^\\xc2\\n\\x16\\xcfQ']\n",
            "Bad pipe message: %s [b'o\\xeb\\xa2\\x8ce\\xbf\\xbf\\xc8\\xe7\\xb0\\x82\\x832\\x8e\\xc3/\\t\\xa7\\x00\\x00\\x86\\xc00\\xc0,\\xc0(\\xc0$\\xc0\\x14\\xc0\\n\\x00\\xa5\\x00\\xa3\\x00\\xa1\\x00\\x9f\\x00k\\x00j\\x00i\\x00h\\x009\\x008\\x007\\x006\\xc02\\xc0.\\xc0*\\xc0&\\xc0\\x0f\\xc0\\x05\\x00\\x9d\\x00=\\x005']\n",
            "Bad pipe message: %s [b\",\\xa5\\x1b'~*D@<`N\\x01\\x80v\\xf43\\xe9I\\x00\\x00>\\xc0\\x14\\xc0\\n\\x009\\x008\\x007\\x006\\xc0\\x0f\\xc0\\x05\"]\n"
          ]
        }
      ],
      "source": [
        "%%manim -qm IntegralConvolution1\n",
        "\n",
        "def signal_1(t):\n",
        "    if t >= 0:\n",
        "        return np.exp(-2*t)\n",
        "    else:\n",
        "        return 0\n",
        "\n",
        "def signal_2(t):\n",
        "    if t>= 0:\n",
        "        return np.exp(-5*t)\n",
        "    else:\n",
        "        return 0\n",
        "\n",
        "class IntegralConvolution1(Scene):\n",
        "    def construct(self):\n",
        "\n",
        "        axes1 = Axes(\n",
        "            x_range=[-5, 5, 1],\n",
        "            y_range=[0, 2, 1],\n",
        "            x_length=10,\n",
        "            y_length=1,\n",
        "            axis_config={\n",
        "                \"color\": WHITE,\n",
        "                \"stroke_width\": 2,\n",
        "                \"include_tip\": False,\n",
        "            },\n",
        "            x_axis_config={\n",
        "                \"numbers_to_include\": np.arange(-5, 6)\n",
        "            },\n",
        "            y_axis_config={\n",
        "                \"numbers_to_include\": np.arange(0, 2, 1),\n",
        "            },\n",
        "        ).move_to(3.1*UP)\n",
        "        self.play(Create(axes1))\n",
        "\n",
        "\n",
        "        line_1 = axes1.plot(lambda x: signal_1(x), color=BLUE,\n",
        "                            x_range=[-5,5, 0.01], use_smoothing=False)\n",
        "        tex1 = MathTex('x(\\\\tau)').move_to((-3.7,3.7,0))\n",
        "        self.play(Create(line_1), Create(tex1))\n",
        "\n",
        "        axes2 = Axes(\n",
        "            x_range=[-5, 5, 1],\n",
        "            y_range=[0, 2, 1],\n",
        "            x_length=10,\n",
        "            y_length=1,\n",
        "            axis_config={\n",
        "                \"color\": WHITE,\n",
        "                \"stroke_width\": 2,\n",
        "                \"include_tip\": False,\n",
        "            },\n",
        "            x_axis_config={\n",
        "                \"numbers_to_include\": np.arange(-5, 6)\n",
        "            },\n",
        "            y_axis_config={\n",
        "                \"numbers_to_include\": np.arange(0, 2, 1),\n",
        "            },\n",
        "        ).move_to(1.4*UP)\n",
        "        self.play(Create(axes2))\n",
        "        line_2 = axes2.plot(lambda x: signal_2(x), color=RED,\n",
        "                            x_range=[-5, 5, 0.01], use_smoothing=False)\n",
        "        tex2 = MathTex('h(\\\\tau)').move_to((-3.7,1.7,0))\n",
        "        self.play(Create(line_2), Create(tex2))\n",
        "        line_3 = axes2.plot(lambda x: signal_2(-x), color=RED,\n",
        "                            x_range=[-5, 5, 0.01], use_smoothing=False)\n",
        "        tex3 = MathTex('h(\\\\tau)').move_to((-3.7,1.7,0))\n",
        "        self.play(ReplacementTransform(line_2,line_3),\n",
        "                  ReplacementTransform(tex2, tex3))\n",
        "        axes3 = Axes(\n",
        "            x_range=[-5, 5, 1],\n",
        "            y_range=[0, 2, 2],\n",
        "            x_length=10,\n",
        "            y_length=1,\n",
        "            axis_config={\n",
        "                \"color\": WHITE,\n",
        "                \"stroke_width\": 2,\n",
        "                \"include_tip\": False,\n",
        "            },\n",
        "            x_axis_config={\n",
        "                \"numbers_to_include\": np.arange(-5, 6)\n",
        "            },\n",
        "            y_axis_config={\n",
        "                \"numbers_to_include\": np.arange(0, 2, 1),\n",
        "            },\n",
        "        ).move_to(0.5*DOWN)\n",
        "        self.play(Create(axes3))\n",
        "\n",
        "        axes4 = Axes(\n",
        "            x_range=[-5, 5, 1],\n",
        "            y_range=[0, 0.2, 1],\n",
        "            x_length=10,\n",
        "            y_length=1,\n",
        "            axis_config={\n",
        "                \"color\": WHITE,\n",
        "                \"stroke_width\": 2,\n",
        "                \"include_tip\": False,\n",
        "            },\n",
        "            x_axis_config={\n",
        "                \"numbers_to_include\": np.arange(-5, 6)\n",
        "            },\n",
        "            y_axis_config={\n",
        "                \"numbers_to_include\": np.arange(0, .3, 0.1),\n",
        "            },\n",
        "        ).move_to(2.4*DOWN)\n",
        "        self.play(Create(axes4))\n",
        "\n",
        "        dx = 0.01\n",
        "        x = np.arange(-5,5, dx)\n",
        "        sig1 = np.zeros_like(x)\n",
        "        sig2 = np.zeros_like(x)\n",
        "        line_4 = axes3.plot_line_graph(x, sig1*sig2,\n",
        "                                       add_vertex_dots=False,\n",
        "                                       line_color=GREEN)\n",
        "\n",
        "        tex4 = MathTex('x(\\\\tau)h(t-\\\\tau)').move_to((-3.7,-0.3,0))\n",
        "        tex5 = MathTex('\\int_{-\\infty}^\\infty x(\\\\tau)h(t-\\\\tau)\\,d\\\\tau').move_to((-3.7,-2.3,0))\n",
        "        tex6 = MathTex('h(t-\\\\tau)').move_to((-3.7,1.7,0))\n",
        "\n",
        "\n",
        "        # area = Polygon([-5,0,0], color=GREEN)\n",
        "        self.play(Create(line_4), Create(tex4),\n",
        "                  Create(tex5), ReplacementTransform(tex3, tex6),\n",
        "                  )\n",
        "        sigconv = []\n",
        "\n",
        "\n",
        "\n",
        "        for t in np.arange(-5, 5, 0.1):\n",
        "\n",
        "            for i in range(len(x)):\n",
        "                sig1[i] = signal_1(x[i])\n",
        "                sig2[i] = signal_2(t-x[i])\n",
        "            conv = np.sum(dx*(sig1*sig2))\n",
        "            sigconv.append(conv)\n",
        "            line_5 = axes3.plot_line_graph(x, sig1*sig2,\n",
        "                                           add_vertex_dots=False,\n",
        "                                           line_color=GREEN)\n",
        "\n",
        "\n",
        "            #area1 = Polygon(*listpoints_area, color=GREEN)\n",
        "\n",
        "            line_6 = axes4.plot_line_graph(x[:10*len(sigconv):10],\n",
        "                                           np.array(sigconv),\n",
        "                                           add_vertex_dots=False,\n",
        "                                           line_color=GOLD)\n",
        "            self.play(line_3.animate.move_to(axes2.c2p(*(t, 0.4,0))),\n",
        "                      Transform(line_4, line_5),\n",
        "                      Create(line_6),\n",
        "                      run_time=0.3)\n",
        "\n",
        "\n",
        "\n",
        "        self.wait(5)"
      ]
    },
    {
      "cell_type": "markdown",
      "id": "df444225-a9c7-4e2c-83a6-7cd97ced1641",
      "metadata": {
        "id": "df444225-a9c7-4e2c-83a6-7cd97ced1641"
      },
      "source": [
        "## Caracterização de um SLIT pela resposta ao impulso\n",
        "\n",
        "A principal consequência da integral de convolução é que conseguimos caracterizar completamente um sistema linear e invariante no tempo de contínuo pela sua resposta ao impulso. Perceba que não é necessário conhecer a equação de diferenças nem o diagrama de blocos do sistema se tivermos a resposta ao impulso. Portanto, **a resposta ao impulso caracteriza completamente o comportamento de um sistema linear e invariante no tempo**.\n",
        "\n",
        "Por isso, é bastante comum no diagrama de blocos representar o sistema pela sua respsota ao impulso.\n",
        "\n",
        "\n",
        "<img src=https://github.com/juju-ssol/SistemasESinais/blob/master/.ipynb_checkpoints/Imagens/impulsoconvcont.png?raw=1 width=\"500\">"
      ]
    },
    {
      "cell_type": "markdown",
      "id": "db531caf-f544-4716-80b2-91f5f8b4bb63",
      "metadata": {
        "jp-MarkdownHeadingCollapsed": true,
        "tags": [],
        "id": "db531caf-f544-4716-80b2-91f5f8b4bb63"
      },
      "source": [
        "## Propriedades da convolução\n",
        "\n",
        "### Comutativa\n",
        "\n",
        "Uma das propriedades mais importantes, principalmente do ponto de vista prático, já que pode facilitar a computação da conolução.\n",
        "\n",
        "> $x(t)*h(t) = h(t)*x(t)$\n",
        "\n",
        "**Prova**:\n",
        "\n",
        "Aqui é feita uma mudança de variável ($\\upsilon = t-\\tau$), e a prova sai facilmente.\n",
        "\n",
        "$$ x(t)*h(t) =  \\int_{-\\infty}^\\infty x(\\tau)h(t-\\tau)\\,d\\tau = \\int_{-\\infty}^\\infty x(t-\\upsilon)h(\\upsilon)\\,d\\upsilon = h(t)*x(t)$$\n",
        "\n",
        "\n",
        "### Distributiva\n",
        "\n",
        "> $x(t)*h_1(t)+x(t)*h_2(t) = x(t)*(h_1(t)+ h_2(t))$\n",
        "\n",
        "A prova dessa propriedade fica para o Exercício 1.  \n",
        "\n",
        "Com esta propriedade, podemos interpretar dois sistemas ligados em paralelo, recebendo a mesma entrada, como sendo apenas um sistema que tem a resposta ao impulso igual a soma das respostas ao impulso dos dois sistemas ligados em paraleo.\n",
        "\n",
        "<img src=https://github.com/juju-ssol/SistemasESinais/blob/master/.ipynb_checkpoints/Imagens/distributivaconvcont.png?raw=1 width=\"600\">\n",
        "\n",
        "\n",
        "Uma outra consequência dessa propriedade é que podemos dividir a resposta ao impulso de um sistema em várias partes se isso facilitar o cálculo da somatória de convolução.\n",
        "\n",
        "### Associativa\n",
        "\n",
        "> $x(t)*(h_1(t)*h_2(t)) = (x(t)*h_1(t))*h_2(t)$\n",
        "\n",
        "A prova dessa propriedade fica para o Exercício 2.\n",
        "\n",
        "A principal consequência dessa propriedade é que se tivermos dois sistemas em série, podemos considerá-los como um sistema com a resposta ao impulso sendo a convolução das respostas ao impulso dos dois sistemas.\n",
        "\n",
        "<img src=https://github.com/juju-ssol/SistemasESinais/blob/master/.ipynb_checkpoints/Imagens/associativaconvcont.png?raw=1 width=\"500\">\n"
      ]
    },
    {
      "cell_type": "markdown",
      "id": "cfbb8de3-484c-4fe5-a0c6-e25fda84a999",
      "metadata": {
        "id": "cfbb8de3-484c-4fe5-a0c6-e25fda84a999"
      },
      "source": [
        "## Exercícios"
      ]
    },
    {
      "cell_type": "markdown",
      "id": "375a538f-2897-4e22-951c-d98b8531f726",
      "metadata": {
        "id": "375a538f-2897-4e22-951c-d98b8531f726"
      },
      "source": [
        "**1)** Prove a propriedade distributiva da integral de convolução."
      ]
    },
    {
      "cell_type": "markdown",
      "id": "4ce8f6a4-a4b2-4c9d-b034-479c1bf82a66",
      "metadata": {
        "id": "4ce8f6a4-a4b2-4c9d-b034-479c1bf82a66"
      },
      "source": [
        "**2)** Prove a propriedade associativa da integral de convolução"
      ]
    },
    {
      "cell_type": "markdown",
      "id": "e46c7139-1343-4a03-b792-3c961b01c5a9",
      "metadata": {
        "id": "e46c7139-1343-4a03-b792-3c961b01c5a9"
      },
      "source": [
        "**3)** Seja o sinal $h(t)$:\n",
        "\n",
        "$$h(t) = e^{3t}u(-t+1) + e^{-3t}u(t-3)$$\n",
        "\n",
        "Determine os valores de $A$ e $B$ de forma que:\n",
        "\n",
        "$$h(t-\\tau) = \\left\\{\\begin{array}{cc}e^{-3(t-\\tau)}&,\\tau<A\\\\0&,A\\leq\\tau<B \\\\e^{3(t-\\tau)}&,\\tau\\geq B \\end{array} \\right.$$"
      ]
    },
    {
      "cell_type": "markdown",
      "id": "9f1f1ebc-2a4c-4e47-814b-6c21b089a398",
      "metadata": {
        "id": "9f1f1ebc-2a4c-4e47-814b-6c21b089a398"
      },
      "source": [
        "**4)** Determine:\n",
        "\n",
        "a) $u(t)*u(t)$\n",
        "\n",
        "b) $e^{-3t}u(t)*u(t)$\n",
        "\n",
        "c) $tu(t)*u(t)$\n",
        "\n",
        "d) $\\mathrm{sen}(t)u(t)*u(t)$\n",
        "\n",
        "e) $\\cos(t)u(t)*u(t)$"
      ]
    },
    {
      "cell_type": "markdown",
      "id": "52df0ca4-df52-4295-b556-a9548dbf09b1",
      "metadata": {
        "id": "52df0ca4-df52-4295-b556-a9548dbf09b1"
      },
      "source": [
        "**5)** Determine a resposta de um sistema linear e invariante no tempo (estado nulo) às  entradas abaixo, considerando que esse sistema tem a seguinte resposta ao impulso:\n",
        "\n",
        "$h(t) = e^{-3t}u(t)$\n",
        "\n",
        "a) $x_1(t) = u(t)$\n",
        "\n",
        "b) $x_2(t) = e^{-2t}u(t)$\n",
        "\n",
        "c) $x_3(t) = \\cos(2t)u(t)$"
      ]
    },
    {
      "cell_type": "markdown",
      "id": "dcaf6126-36fd-4f2d-8ff2-3d9e56a4287f",
      "metadata": {
        "id": "dcaf6126-36fd-4f2d-8ff2-3d9e56a4287f"
      },
      "source": [
        "**6)** Calcule a resposta do sistema que tem a rersposta ao impulso $h(t)$ mostrada no gráfico abaixo quando é usada a entrada $x(t)$, também mostrada abaixo. Esse sistema é causal?"
      ]
    },
    {
      "cell_type": "code",
      "execution_count": null,
      "id": "aafbc3c2",
      "metadata": {
        "id": "aafbc3c2",
        "outputId": "6a8b746e-6e48-4f41-cd53-fa6414c0944b"
      },
      "outputs": [
        {
          "data": {
            "image/png": "[encoded data removed]",
            "text/plain": [
              "<Figure size 640x480 with 2 Axes>"
            ]
          },
          "metadata": {},
          "output_type": "display_data"
        },
        {
          "data": {
            "text/plain": [
              "<sympy.plotting.plot.PlotGrid at 0x7fd11dd58610>"
            ]
          },
          "execution_count": 12,
          "metadata": {},
          "output_type": "execute_result"
        }
      ],
      "source": [
        "t = sym.symbols('t')\n",
        "\n",
        "x = sym.Piecewise((1, (t >= 0)),\n",
        "                  (0, True))\n",
        "p1 = sym.plot(x, (t, -3, 3), show=False, title='$x(t)(t)$')\n",
        "h = sym.Piecewise((t+1, (t >= -1) & (t < 0)),\n",
        "                  (0, True))\n",
        "p2 = sym.plot(h, (t, -3,3), show=False, title='$h(t)$')\n",
        "PlotGrid(1, 2, p1, p2)"
      ]
    },
    {
      "cell_type": "markdown",
      "id": "604f175e-c0be-4ce3-b286-6c8e0cbf366a",
      "metadata": {
        "id": "604f175e-c0be-4ce3-b286-6c8e0cbf366a"
      },
      "source": [
        "**7)** Considere o circuito elétrico da figura abaixo:\n",
        "\n",
        "<img src=https://upload.wikimedia.org/wikipedia/commons/thumb/e/e0/RC_Series_Filter_%28with_V%26I_Labels%29.svg/1920px-RC_Series_Filter_%28with_V%26I_Labels%29.svg.png width=\"400\">\n",
        "\n",
        "Considere que o sinal de entrada do sistema é a tensão do gerador $x(t) = V_{in}$ e o sinal de saída é a tensão no capacitor $y(t)=V_c$. Pede-se:\n",
        "\n",
        "a) A equação diferencial que descreve o comportamento desse sistema (lembre-se que $I=C\\frac{dV_c}{dt}$ e $I = \\frac{V_r}{R}$).\n",
        "\n",
        "b) A resposta ao impulso desse sistema.\n",
        "\n",
        "c) Determine a resposta de entrada nula, e esboce seu gráfico, considerando que $V_c(0) = 1$ V.\n",
        "\n",
        "d) Encontre o sinal de saída, levando em conta a sua condição inicial, para o sinal de entrada $x(t) = e^{-t}u(t)$ V."
      ]
    },
    {
      "cell_type": "markdown",
      "id": "71f7d111-b25c-492e-ace3-da5959f5fed0",
      "metadata": {
        "tags": [],
        "id": "71f7d111-b25c-492e-ace3-da5959f5fed0"
      },
      "source": [
        "**8)** Qual o comportamento esperado (descreva em palavras, justificando) de um sistema que tenha como resposta ao impulso as seguintes funções:\n",
        "\n",
        "a) $h_1(t) = u(t)$\n",
        "\n",
        "b) $h_2(t) = \\delta(t)$"
      ]
    },
    {
      "cell_type": "markdown",
      "id": "974e97a2-d4c5-45b8-9afd-0093def37fb2",
      "metadata": {
        "id": "974e97a2-d4c5-45b8-9afd-0093def37fb2"
      },
      "source": [
        "## Referências\n",
        "\n",
        "- Ulaby, FT e Yagle, AE, Signals & Systems: Theory and Applications, 2018, [ss2.eecs.umich.edu](ss2.eecs.umich.edu)\n",
        "- Oppenheim, M.  e Willsky, S., Sistemas e Sinais, 2010\n",
        "\n",
        "- Lathi, BP, Sinais e Sistemas Lineares, 2007"
      ]
    },
    {
      "cell_type": "markdown",
      "id": "ba3d83cb-44f4-466c-9c4e-72cc24b99e37",
      "metadata": {
        "id": "ba3d83cb-44f4-466c-9c4e-72cc24b99e37"
      },
      "source": [
        "## Solução dos exercícios"
      ]
    },
    {
      "cell_type": "code",
      "execution_count": null,
      "id": "504916c1-3f05-430f-a96e-2ed6d0ad403f",
      "metadata": {
        "id": "504916c1-3f05-430f-a96e-2ed6d0ad403f"
      },
      "outputs": [],
      "source": []
    },
    {
      "cell_type": "markdown",
      "source": [
        "**1)** Prove a propriedade distributiva da integral de convolução.\n",
        "\n",
        "Partindo de:\n",
        "\n",
        "$x(t)*h_1(t)+x(t)*h_2(t) = x(t)*(h_1(t)+ h_2(t))$\n",
        "\n",
        "Aplicando a definição na parte esquerda da equação:\n",
        "\n",
        "$\\int_{-\\infty}^\\infty x(\\tau)h_1(t-\\tau)\\,d\\tau + \\int_{-\\infty}^\\infty x(\\tau)h_2(t-\\tau)\\,d\\tau$\n",
        "\n",
        "$\\int_{-\\infty}^\\infty (x(\\tau)h_1(t-\\tau) + x(\\tau)h_2(t-\\tau))\\,d\\tau$\n",
        "\n",
        "$\\int_{-\\infty}^\\infty x(\\tau)(h_1(t-\\tau) + h_2(t-\\tau))\\,d\\tau$\n",
        "\n",
        "vamos definir uma função $h_{3}(t-\\tau) = h_1(t-\\tau) + h_2(t-\\tau)$, sendo assim:\n",
        "\n",
        "$\\int_{-\\infty}^\\infty x(\\tau)h_{3}(t-\\tau)\\,d\\tau = x(t)*h_3(t) = x(t)*(h_1(t)+h_2(t))$"
      ],
      "metadata": {
        "id": "rWpuoavuWzbY"
      },
      "id": "rWpuoavuWzbY"
    },
    {
      "cell_type": "markdown",
      "source": [
        "**4)** Determine:\n",
        "\n",
        "a) $u(t)*u(t)$\n",
        "\n",
        "$y(t) = \\int_{-\\infty}^\\infty u(\\tau)u(t-\\tau)\\,d\\tau = \\int_{0}^t 1\\,d\\tau = \\tau|_{\\tau=0}^t = tu(t)$\n",
        "\n",
        "\n",
        "b) $e^{-3t}u(t)*u(t)$\n",
        "\n",
        "$y(t) = \\int_{-\\infty}^\\infty e^{-3\\tau}u(\\tau)u(t-\\tau)\\,d\\tau = \\int_{0}^t e^{-3\\tau}\\,d\\tau = \\frac{e^{-3\\tau}}{-3}|_{\\tau=0}^t = \\frac{e^{-3t}-1}{-3}u(t)$\n",
        "\n",
        "\n",
        "c) $tu(t)*u(t)$\n",
        "\n",
        "$y(t) = \\int_{-\\infty}^\\infty \\tau u(\\tau)u(t-\\tau)\\,d\\tau = \\int_{0}^t \\tau\\,d\\tau = \\frac{\\tau^2}{2}|_{\\tau=0}^t = \\frac{t^2}{2}u(t)$\n",
        "\n",
        "\n",
        "d) $\\mathrm{sen}(t)u(t)*u(t)$\n",
        "\n",
        "$y(t) = \\int_{-\\infty}^\\infty \\mathrm{sen}(\\tau)u(\\tau)u(t-\\tau)\\,d\\tau = \\int_{0}^t \\mathrm{sen}(\\tau)\\,d\\tau = -\\cos(\\tau)|_{\\tau=0}^t = (-\\cos(t)+1)u(t)$\n",
        "\n",
        "e) $\\cos(t)u(t)*u(t)$\n",
        "\n",
        "$y(t) = \\int_{-\\infty}^\\infty \\cos(\\tau)u(\\tau)u(t-\\tau)\\,d\\tau = \\int_{0}^t \\cos(\\tau)\\,d\\tau = \\mathrm{sen}(\\tau)|_{\\tau=0}^t = \\mathrm{sen}(t)u(t)$"
      ],
      "metadata": {
        "id": "gU3ReqL6SIel"
      },
      "id": "gU3ReqL6SIel"
    },
    {
      "cell_type": "markdown",
      "source": [
        "**5)** Determine a resposta de um sistema linear e invariante no tempo (estado nulo) às  entradas abaixo, considerando que esse sistema tem a seguinte resposta ao impulso:\n",
        "\n",
        "$h(t) = e^{-3t}u(t)$\n",
        "\n",
        "a) $x_1(t) = u(t)$\n",
        "\n",
        "$y(t) = \\int_{-\\infty}^\\infty u(\\tau)e^{-3(t-\\tau)}u(t-\\tau)\\,d\\tau = \\int_{0}^t e^{-3(t-\\tau)}\\,d\\tau = e^{-3t}\\int_{0}^t e^{3\\tau}\\,d\\tau = \\frac{e^{-3t}}{3}\\left.e^{3\\tau}\\right|_{\\tau=0}^t u(t) = \\frac{e^{-3t}}{3}(e^{3t}-1) = \\frac{1-e^{-3t}}{3}u(t)$\n",
        "\n",
        "\n",
        "b) $x_2(t) = e^{-2t}u(t)$\n",
        "\n",
        "$y(t) = \\int_{-\\infty}^\\infty e^{-2\\tau}u(\\tau)e^{-3(t-\\tau)}u(t-\\tau)\\,d\\tau = \\int_{0}^t e^{-2\\tau}e^{-3(t-\\tau)}\\,d\\tau = e^{-3t}\\int_{0}^t e^{-2\\tau}e^{3\\tau}\\,d\\tau = e^{-3t}\\int_{0}^t e^{\\tau}\\,d\\tau = e^{-3t}e^{\\tau}|_{\\tau=0}^t u(t) = e^{-3t}(e^{t}-1) = (e^{-2t}-e^{-3t})u(t)$\n",
        "\n",
        "\n",
        "c) $x_3(t) = \\cos(2t)u(t)$\n",
        "\n",
        "$y(t) = \\int_{-\\infty}^\\infty \\cos(2\\tau)u(\\tau)e^{-3(t-\\tau)}u(t-\\tau)\\,d\\tau = \\int_{0}^t \\cos(2\\tau)e^{-3(t-\\tau)}\\,d\\tau = e^{-3t}\\int_{0}^t \\cos(2\\tau)e^{3\\tau}\\,d\\tau = e^{-3t}\\int_{0}^t \\frac{(e)^{j2\\tau}+(e)^{-j2\\tau}}{2}e^{3\\tau}\\,d\\tau = e^{-3t}\\int_{0}^t \\frac{(e)^{\\tau(3+j2)}+(e)^{\\tau(3-j2)}}{2}\\,d\\tau = \\frac{e^{-3t}}{2}(\\int_{0}^t (e)^{\\tau(3+j2)}\\,d\\tau + \\int_{0}^t (e)^{\\tau(3-j2)}\\,d\\tau) = \\frac{e^{-3t}}{2}(\\frac{(e)^{\\tau(3+j2)}}{3+j2}+\\frac{(e)^{\\tau(3-j2)}}{3-j2})|_{\\tau=0}^t = \\frac{e^{-3t}}{2}(\\frac{(e)^{\\tau(3+j2)t}-1}{3+j2}+\\frac{(e)^{\\tau(3-j2)t}-1}{3-j2}) = \\frac{e^{-3t}(e^{jatg(\\frac{2}{3})}+e^{-jatg(\\frac{2}{3})})}{2\\sqrt{3}} = \\frac{\\cos(2t-atg(\\frac{2}{3}))}{2\\sqrt{3}}$"
      ],
      "metadata": {
        "id": "GzTqIyMTZjs4"
      },
      "id": "GzTqIyMTZjs4"
    },
    {
      "cell_type": "markdown",
      "source": [
        "**8)** Qual o comportamento esperado (descreva em palavras, justificando) de um sistema que tenha como resposta ao impulso as seguintes funções:\n",
        "\n",
        "a) $h_1(t) = u(t)$\n",
        "\n",
        "Quando a resposta ao impulso é um degrau, o sistema é chamado de integrador e, portanto, sua saída será sempre a integral do sinal de entrada.\n",
        "\n",
        "b) $h_2(t) = \\delta(t)$\n",
        "\n",
        "Quando a resposta ao impulso é um impulso, o sistema é chamado de identidade e, portanto, sua saída será sempre o sinal de entrada."
      ],
      "metadata": {
        "id": "NxdYtOWdgUu6"
      },
      "id": "NxdYtOWdgUu6"
    }
  ],
  "metadata": {
    "kernelspec": {
      "display_name": "Python 3 (ipykernel)",
      "language": "python",
      "name": "python3"
    },
    "language_info": {
      "codemirror_mode": {
        "name": "ipython",
        "version": 3
      },
      "file_extension": ".py",
      "mimetype": "text/x-python",
      "name": "python",
      "nbconvert_exporter": "python",
      "pygments_lexer": "ipython3",
      "version": "3.10.11"
    },
    "colab": {
      "provenance": []
    }
  },
  "nbformat": 4,
  "nbformat_minor": 5
}