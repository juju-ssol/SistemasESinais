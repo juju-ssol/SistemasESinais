{
  "cells": [
    {
      "cell_type": "markdown",
      "id": "88cd5f75-700a-46e4-b2b4-cbcd8401f3bd",
      "metadata": {
        "id": "88cd5f75-700a-46e4-b2b4-cbcd8401f3bd"
      },
      "source": [
        "# Resposta ao impulso unitário\n",
        "\n",
        "Renato Naville Watanabe"
      ]
    },
    {
      "cell_type": "markdown",
      "id": "a04f5ddb-05e5-4dfb-b9d4-f1fc148a6a6e",
      "metadata": {
        "id": "a04f5ddb-05e5-4dfb-b9d4-f1fc148a6a6e"
      },
      "source": [
        "## Preparação do ambiente"
      ]
    },
    {
      "cell_type": "code",
      "execution_count": null,
      "id": "4a226b1c-e969-4ba0-8b0a-ff4253b9aca7",
      "metadata": {
        "tags": [],
        "id": "4a226b1c-e969-4ba0-8b0a-ff4253b9aca7"
      },
      "outputs": [],
      "source": [
        "import matplotlib.pyplot as plt\n",
        "import numpy as np"
      ]
    },
    {
      "cell_type": "markdown",
      "id": "fed8542a-c3c9-481e-97c3-3373962fbca8",
      "metadata": {
        "id": "fed8542a-c3c9-481e-97c3-3373962fbca8"
      },
      "source": [
        "## Definição\n",
        "\n",
        "A **resposta ao impulso unitário** (às vezes também chamada de **resposta impulsiva**) de um sistema discreto é o sinal de saída de um sistema quando um impulso unitário $\\delta[n]$ é usado como sinal de entrada do sistema e inicialmente o sistema está em repouso. A resposta ao impulso é normalmente representada pela letra $h[n]$.\n",
        "\n",
        "<img src=https://github.com/juju-ssol/SistemasESinais/blob/master/.ipynb_checkpoints/Imagens/diagimpulso.png?raw=1 width=\"300\">"
      ]
    },
    {
      "cell_type": "markdown",
      "id": "c10b8020-6b23-44ff-8550-24aadd44eba4",
      "metadata": {
        "id": "c10b8020-6b23-44ff-8550-24aadd44eba4"
      },
      "source": [
        "Para calcular a resposta ao impulso de um sistema de tempo discreto, basta colocar o sinal $\\delta[n]$ como entrada do sistema, e calcular os valores de forma recursiva (existe uma outra maneira, mais eficiente, que veremos em outro tópico)."
      ]
    },
    {
      "cell_type": "markdown",
      "id": "5933afd2-aeef-46a6-95b9-0090c262e48a",
      "metadata": {
        "id": "5933afd2-aeef-46a6-95b9-0090c262e48a"
      },
      "source": [
        "---\n",
        "\n",
        "### Exemplo 1\n",
        "\n",
        "Por exemplo, para o sistema com a seguinte equação de diferença:\n",
        "\n",
        "$$y[n] = 1x[n] - 0.6x[n-1] + 0.3x[n-2] + 0.1x[n-3]$$\n",
        "\n",
        "O diagrama de blocos desse sistema é mostrado abaixo:\n",
        "\n",
        "<img src=https://github.com/juju-ssol/SistemasESinais/blob/master/.ipynb_checkpoints/Imagens/diagexemploMAimpulso.png?raw=1 width=\"600\">\n",
        "\n",
        "Usando $x[n] = \\delta[n]$, temos:\n",
        "\n",
        "$h[0] = \\delta[0] - 0.6 \\delta[-1] + 0.3 \\delta[-2] + 0.1 \\delta[-3] = 1$\n",
        "\n",
        "$h[1] = \\delta[1] - 0.6 \\delta[0] + 0.3 \\delta[-1] + 0.1 \\delta[-2] = -0.6$\n",
        "\n",
        "$h[2] = \\delta[2] - 0.6 \\delta[1] + 0.3 \\delta[0] + 0.1 \\delta[-1] = 0.3$\n",
        "\n",
        "$h[3] = \\delta[3] - 0.6 \\delta[2] + 0.3 \\delta[1] + 0.1 \\delta[0] = 0.1$\n",
        "\n",
        "$h[4] = \\delta[4] - 0.6 \\delta[3] + 0.3 \\delta[2] + 0.1 \\delta[1] = 0$\n",
        "\n",
        "$\\vdots $\n",
        "\n",
        "$h[k] = 0, k>3$\n",
        "\n",
        "O gráfico da resposta ao impulso está abaixo:"
      ]
    },
    {
      "cell_type": "code",
      "execution_count": null,
      "id": "feda0a20-90ad-412a-979c-c593dbcffb97",
      "metadata": {
        "tags": [],
        "id": "feda0a20-90ad-412a-979c-c593dbcffb97",
        "outputId": "1975abf0-978a-4121-80ff-d5c6efaf9539"
      },
      "outputs": [
        {
          "data": {
            "image/png": "[encoded data removed]",
            "text/plain": [
              "<Figure size 640x480 with 1 Axes>"
            ]
          },
          "metadata": {},
          "output_type": "display_data"
        }
      ],
      "source": [
        "def delta(k, N):\n",
        "    impulso = np.zeros(N)\n",
        "    impulso[k] = 1\n",
        "    return impulso\n",
        "\n",
        "\n",
        "x = delta(0, 8)\n",
        "y = np.zeros_like(x)\n",
        "for n in range(len(x)):\n",
        "    y[n] = x[n] - 0.6*x[n-1]+0.3*x[n-2]+0.1*x[n-3]\n",
        "plt.stem(y)\n",
        "plt.title('$h[n]$')\n",
        "plt.xlabel('n');"
      ]
    },
    {
      "cell_type": "markdown",
      "id": "25eca367-0e68-475e-b8da-535ff3c371e2",
      "metadata": {
        "id": "25eca367-0e68-475e-b8da-535ff3c371e2"
      },
      "source": [
        "---"
      ]
    },
    {
      "cell_type": "markdown",
      "id": "d799fd01-5f70-4669-b2ce-8195293eb561",
      "metadata": {
        "id": "d799fd01-5f70-4669-b2ce-8195293eb561"
      },
      "source": [
        "Sempre que o sistema depender apenas de valores da entrada, a resposta impulsiva será os coeficientes que multiplicam os valores da entrada. Esse tipo de sistema, que a saída depende apenas da entrada, é chamado de sistema ***moving average*** (na maioria das vezes se usa apenas a sigla **MA**).\n"
      ]
    },
    {
      "cell_type": "markdown",
      "id": "4f57e8d7-7a92-4831-a7be-2833d84de566",
      "metadata": {
        "id": "4f57e8d7-7a92-4831-a7be-2833d84de566"
      },
      "source": [
        "Isso não acontece se o sinal de sáida do sistema depender também de valores passados da própria saída. \n",
        "\n",
        "---\n",
        "\n",
        "### Exemplo 2\n",
        "\n",
        "Considerando o sistema descrito pela seguinte equação de diferenças:\n",
        "\n",
        "$$y[n] = 0.3y[n-1] - 0.2y[n-2] + 0.1x[n] - 0.2x[n-1]$$\n",
        "\n",
        "Um diagrama de blocos para esse sistema está abaixo (tente se convencer que o diagrama de blocos abaixo representa essa equação de diferenças):\n",
        "\n",
        "}\n",
        "\n",
        "Usando $x[n] = \\delta[n]$, temos (te):\n",
        "\n",
        "$h[0] =0.3h[-1] - 0.2h[-2] + 0.1\\delta[0] - 0.2\\delta[-1] = 0.1$\n",
        "\n",
        "$h[1] = 0.3h[0] - 0.2h[-1] + 0.1\\delta[1] - 0.2\\delta[0] = -0.17$\n",
        "\n",
        "$h[2] = 0.3h[1] - 0.2h[0] + 0.1\\delta[2] - 0.2\\delta[1] = -0.071$\n",
        "\n",
        "$h[3] = 0.3h[2] - 0.2h[1] + 0.1\\delta[3] - 0.2\\delta[2] = 0.0127$\n",
        "\n",
        "$h[4] = 0.3h[3] - 0.2h[2] + 0.1\\delta[4] - 0.2\\delta[3] = 0.01801$\n",
        "\n",
        "$\\vdots $\n",
        "\n",
        "\n",
        "O gráfico da resposta ao impulso desse sistema é:"
      ]
    },
    {
      "cell_type": "code",
      "execution_count": null,
      "id": "9a7c7864-d4c5-4ac1-bf0c-5e07c905db27",
      "metadata": {
        "tags": [],
        "id": "9a7c7864-d4c5-4ac1-bf0c-5e07c905db27",
        "outputId": "67f1c43b-9e27-461d-c460-1b67d705df14"
      },
      "outputs": [
        {
          "data": {
            "text/plain": [
              "Text(0.5, 0, 'n')"
            ]
          },
          "execution_count": 2,
          "metadata": {},
          "output_type": "execute_result"
        },
        {
          "data": {
            "image/png": "[encoded data removed]",
            "text/plain": [
              "<Figure size 640x480 with 1 Axes>"
            ]
          },
          "metadata": {},
          "output_type": "display_data"
        }
      ],
      "source": [
        "x = delta(0, 10)\n",
        "y = np.zeros_like(x)\n",
        "for n in range(len(x)):\n",
        "    y[n] = 0.3*y[n-1] - 0.2*y[n-2] + 0.1*x[n] - 0.2*x[n-1]\n",
        "plt.stem(y)\n",
        "plt.title('$h[n]$')\n",
        "plt.xlabel('n')"
      ]
    },
    {
      "cell_type": "markdown",
      "id": "3e1787e3-5992-4355-a0f3-ff7e7c5acac6",
      "metadata": {
        "id": "3e1787e3-5992-4355-a0f3-ff7e7c5acac6"
      },
      "source": [
        "Nesse caso, em que o sistema depende de valores passados da própria saída temos que calcular a resposta ao impulso de forma recursiva. Note que a resposta ao impulso desse sistema nunca vai para zero, embora conforme se avance no tempo os valores ficam muito pequenos. \n",
        "\n",
        "---\n",
        "\n",
        "Quando a resposta ao impulso nunca vai para zero, como nesse caso, dizemos que a resposta ao impulso é **infinita** (na maioria das vezes, usamos a sigla em inglês **IIR**). Quando a resposta ao impulso vai para zero depois de algum tempo, como no primeiro exemplo, dizemos que a resposta ao impulso é **finita** (na maioria das vezes, usamos a sigla em inglês **FIR**).\n",
        "\n",
        "Repare que no diagrama de blocos desse sistema aparececem dois caminhos cíclicos (realimentação ou *feedback*). Esses caminhos cíclicos sempre vão aparecer no diagrama de blocos quando o sistema depender de valores passados da própria saída. Os sistemas que têm uma dependência de valores passados da saída do próprio sistema são chamados de ***autoregressive moving average*** (na maioria das vezes se usa apenas a sigla **ARMA**).\n",
        "\n",
        "Sempre que tivermos um sistema ARMA, a resposta ao impuslo será infinita, devido às realimentações (caminhos cícliuocos no diagrama de blocos) existentes no sistema. Um sistema MA sempre terá uma resposta ao impulso finita."
      ]
    },
    {
      "cell_type": "markdown",
      "id": "2e88f43f-9dee-4b1d-9cf5-34c5c360db61",
      "metadata": {
        "id": "2e88f43f-9dee-4b1d-9cf5-34c5c360db61"
      },
      "source": [
        "## Exercícios\n",
        "\n",
        "**1)** Determine a resposta ao impulso dos seguintes sistemas:\n",
        "\n",
        "a) $y[n+1] + 2y[n] = x[n]$\n",
        "\n",
        "b) $y[n] = -3y[n-1] + x[n]$\n",
        "\n",
        "c) \n",
        "\n",
        "<img src=https://github.com/juju-ssol/SistemasESinais/blob/master/.ipynb_checkpoints/Imagens/ex11diagA.png?raw=1 width=\"600\">\n",
        "\n",
        "d) $y[n] - 6y[n-1]+23y[n-2] - 3x[n] + 5x[n-1] = 0$"
      ]
    },
    {
      "cell_type": "markdown",
      "id": "3049bf07-a2a0-45dd-82d9-a4f6d413a484",
      "metadata": {
        "id": "3049bf07-a2a0-45dd-82d9-a4f6d413a484"
      },
      "source": [
        "**2)** Dados dois sistemas conectados em série (S1, seguido de S2):\n",
        "\n",
        "S1: $y_1[n] = 2x_1[n] - 2x_1[n-1]$\n",
        "\n",
        "S2: $y_2[n] = 5x_2[n]-4x_2[n-1]$\n",
        "\n",
        "Encontre a resposta ao impulso do sistema."
      ]
    },
    {
      "cell_type": "markdown",
      "id": "da447a80-0489-4807-b525-3c50005f15f0",
      "metadata": {
        "id": "da447a80-0489-4807-b525-3c50005f15f0"
      },
      "source": [
        "**3)**  Dados dois sistemas conectados em paralelo:\n",
        "\n",
        "S1: $y_1[n] = 2x_1[n] - 2x_1[n-1]$\n",
        "\n",
        "S2: $y_2[n] = 5x_2[n]-4x_2[n-1]$\n",
        "\n",
        "Encontre a resposta ao impulso do sistema."
      ]
    },
    {
      "cell_type": "markdown",
      "id": "04a73daa-04b1-4adb-82ce-868fa55dc226",
      "metadata": {
        "id": "04a73daa-04b1-4adb-82ce-868fa55dc226"
      },
      "source": [
        "**4)** Considere o sistema abaixo:\n",
        "\n",
        "$$y[n] = ny[n-1]+x[n] $$\n",
        "\n",
        "$y[n] = 0$ para $n < 0$\n",
        "\n",
        "a) Qual a resposta ao impulso do sistema? Encontre os 10 primeiros valores de $h[n]$.\n",
        "\n",
        "b) O sistema é linear?\n",
        "\n",
        "c) O sistema é invariante no tempo?"
      ]
    },
    {
      "cell_type": "markdown",
      "id": "7538491b-bd6e-4657-a8f4-64a6d108798f",
      "metadata": {
        "id": "7538491b-bd6e-4657-a8f4-64a6d108798f"
      },
      "source": [
        "**5)** Indique se os sistemas que geraram as seguintes respostas ao impulso são ou não são causais:\n",
        "\n",
        "a) $h_1[n] = 0.2^nu[n]$\n",
        "\n",
        "b) $h_2[n] = (0.2)^nu[n-1]$\n",
        "\n",
        "c) $h_3[n] = 0.2^{|n|}$\n",
        "\n",
        "d) $h_4[n] = u[n+3] - u[n-3] $\n",
        "\n",
        "e) $h_5[n] = 0.5^nu[n] + 2^nu[-n-1]$"
      ]
    },
    {
      "cell_type": "markdown",
      "id": "837de8aa-1436-4dec-9ff3-7aeb46dae134",
      "metadata": {
        "id": "837de8aa-1436-4dec-9ff3-7aeb46dae134"
      },
      "source": [
        "**6)** Considere a seguinte equação de diferenças:\n",
        "\n",
        "$$y[n] = ay[n-1] + x[n] $$\n",
        "\n",
        "a) Encontre a resposta ao impulso do sistema $h[n]$ em função da constante $a$.\n",
        "\n",
        "b) Para que faixa de valores de $a$ o sistema é estável?"
      ]
    },
    {
      "cell_type": "markdown",
      "id": "85098a5a-e4e7-4170-8a11-c8fcd98fe9c4",
      "metadata": {
        "id": "85098a5a-e4e7-4170-8a11-c8fcd98fe9c4"
      },
      "source": [
        "## Referências\n",
        "\n",
        "- Oppenheim, M.  e Willsky, S., Sistemas e Sinais, 2010\n",
        "- Ulaby, FT e Yagle, AE, Signals & Systems: Theory and Applications, 2018, [ss2.eecs.umich.edu](ss2.eecs.umich.edu)\n",
        "- Lathi, BP, Sinais e Sistemas Lineares, 2007"
      ]
    },
    {
      "cell_type": "markdown",
      "id": "7fa1819e-7bcc-4e8d-bf13-6f328fabd11d",
      "metadata": {
        "id": "7fa1819e-7bcc-4e8d-bf13-6f328fabd11d"
      },
      "source": [
        "## Solução dos exercícios"
      ]
    },
    {
      "cell_type": "code",
      "execution_count": null,
      "id": "f6944958-da4c-447a-b7bd-20a568b971f4",
      "metadata": {
        "id": "f6944958-da4c-447a-b7bd-20a568b971f4"
      },
      "outputs": [],
      "source": []
    },
    {
      "cell_type": "markdown",
      "source": [
        "**1)**\n",
        "\n",
        "a) $y[n+1] + 2y[n] = x[n]$\n",
        "\n",
        "$y[n] = -2y[n-1] + x[n-1]$\n",
        "\n",
        "$h[n] = -2h[n-1] + δ[n-1]$\n",
        "\n",
        "$n = 0, h[0] = -2h[-1] + δ[-1] = 0$\n",
        "\n",
        "$n = 1, h[1] = -2h[0] + δ[0] = 1$\n",
        "\n",
        "$n = 2, h[2] = -2h[1] + δ[1] = -2$\n",
        "\n",
        "$n = 3, h[3] = -2h[2] + δ[2] = 4$\n",
        "\n",
        "$n = 4, h[4] = -2h[3] + δ[3] = -8$\n",
        "\n",
        "\n",
        "\n",
        "b) $y[n] = -3y[n-1] + x[n]$\n",
        "\n",
        "$h[n] = -3h[n-1] + δ[n]$\n",
        "\n",
        "$n = 0, h[0] = -3h[-1] + δ[0] = 1$\n",
        "\n",
        "$n = 1, h[1] = -3h[0] + δ[1] = -3$\n",
        "\n",
        "$n = 2, h[2] = -3h[1] + δ[2] = 9$\n",
        "\n",
        "$n = 3, h[3] = -3h[2] + δ[3] = -27$\n",
        "\n",
        "$n = 4, h[4] = -3h[3] + δ[4] = 81$\n",
        "\n",
        "\n",
        "\n",
        "c) $y[n] = -9y[n-1] + 6x[n-1] + x[n]$\n",
        "\n",
        "$h[n] = -9h[n-1] + 6\\delta[n-1] + \\delta[n]$\n",
        "\n",
        "$n = 0, h[0] = -9h[-1] + 6\\delta[-1] + \\delta[0] = 1$\n",
        "\n",
        "$n = 1, h[1] = -9h[0] + 6\\delta[0] + \\delta[1] = -3$\n",
        "\n",
        "$n = 2, h[2] = -9h[1] + 6\\delta[1] + \\delta[2] = 27$\n",
        "\n",
        "$n = 3, h[3] = -9h[2] + 6\\delta[2] + \\delta[3] = -243$\n",
        "\n",
        "$n = 4, h[4] = -9h[3] + 6\\delta[3] + \\delta[4] = 2187$\n",
        "\n",
        "\n",
        "\n",
        "d) $y[n] - 6y[n-1] + 23y[n-2] - 3x[n] + 5x[n-1] = 0$\n",
        "\n",
        "$h[n] = 6h[n-1] - 23h[n-2] + 3\\delta[n] - 5\\delta[n-1]$\n",
        "\n",
        "$n = 0, h[0] = 6h[-1] - 23h[-2] + 3\\delta[0] - 5\\delta[-1] = 3$\n",
        "\n",
        "$n = 1, h[1] = 6h[0] - 23h[-1] + 3\\delta[1] - 5\\delta[0] = 13$\n",
        "\n",
        "$n = 2, h[2] = 6h[1] - 23h[0] + 3\\delta[2] - 5\\delta[1] = 9$\n",
        "\n",
        "$n = 3, h[3] = 6h[2] - 23h[1] + 3\\delta[3] - 5\\delta[2] = -245$\n",
        "\n",
        "$n = 4, h[4] = 6h[3] - 23h[2] + 3\\delta[4] - 5\\delta[3] = -1677$"
      ],
      "metadata": {
        "id": "HQNzTOqiwwI2"
      },
      "id": "HQNzTOqiwwI2"
    },
    {
      "cell_type": "markdown",
      "source": [
        "**3)**\n",
        "\n",
        "Sistema conectados em paralelo, ou seja, a saída do S1 é a entrada do S2:\n",
        "\n",
        "$y_2[n] = 5(2x_1[n] - 2x_1[n-1]) - 4(2x_1[n-1] - 2x_1[n-2]) = 10x_1[n] - 10x_1[n-1] -8x_1[n-1] + 8x_1[n-2]$\n",
        "\n",
        "$h[n] = 10\\delta[n] - 10\\delta[n-1] - 8\\delta[n-1] + 8\\delta[n-2]$\n",
        "\n",
        "$n = 0, h[0] = 10\\delta[0] - 10\\delta[-1] - 8\\delta[-1] + 8\\delta[-2] = 10$\n",
        "\n",
        "$n = 1, h[1] = 10\\delta[1] - 10\\delta[0] - 8\\delta[0] + 8\\delta[-1] = -18$\n",
        "\n",
        "$n = 2, h[2] = 10\\delta[2] - 10\\delta[1] - 8\\delta[1] + 8\\delta[0] = 8$\n",
        "\n",
        "$n = 3, h[3] = 10\\delta[3] - 10\\delta[2] - 8\\delta[2] + 8\\delta[1] = 0$\n",
        "\n",
        "$n = 4, h[4] = 10\\delta[4] - 10\\delta[3] - 8\\delta[3] + 8\\delta[2] = 0$"
      ],
      "metadata": {
        "id": "gel8DM6yvnrU"
      },
      "id": "gel8DM6yvnrU"
    },
    {
      "cell_type": "markdown",
      "source": [
        "**4)**\n",
        "\n",
        "a) \n",
        "Usando $x[n] = \\delta[n]$, temos:\n",
        "\n",
        "$h[0] = 0h[-1] + \\delta[0] = 1$\n",
        "\n",
        "$h[1] = 1h[0] + \\delta[1] = 1$\n",
        "\n",
        "$h[2] = 2h[1] + \\delta[1] = 2$\n",
        "\n",
        "$h[3] = 3h[2] + \\delta[3] = 6$\n",
        "\n",
        "$h[4] = 4h[3] + \\delta[4] = 24$\n",
        "\n",
        "$h[5] = 5h[4] + \\delta[5] = 120$\n",
        "\n",
        "$h[6] = 6h[5] + \\delta[6] = 720$\n",
        "\n",
        "$h[7] = 7h[6] + \\delta[7] = 5040$\n",
        "\n",
        "$h[8] = 8h[7] + \\delta[8] = 40320$\n",
        "\n",
        "$h[9] = 9h[8] + \\delta[9] = 362880$\n",
        "\n",
        "$\\vdots $\n",
        "\n",
        "O gráfico da resposta ao impulso está abaixo:"
      ],
      "metadata": {
        "id": "KOLWmFqun0gr"
      },
      "id": "KOLWmFqun0gr"
    },
    {
      "cell_type": "code",
      "source": [
        "import matplotlib.pyplot as plt\n",
        "import numpy as np\n",
        "\n",
        "def delta(k, N):\n",
        "    impulso = np.zeros(N)\n",
        "    impulso[k] = 1\n",
        "    return impulso\n",
        "\n",
        "x = delta(0, 10)\n",
        "y = np.zeros_like(x)\n",
        "for n in range(len(x)):\n",
        "    y[n] = n*y[n-1] + x[n]\n",
        "plt.stem(y)\n",
        "plt.title('$h[n]$')\n",
        "plt.xlabel('n');"
      ],
      "metadata": {
        "colab": {
          "base_uri": "https://localhost:8080/",
          "height": 473
        },
        "id": "JlNV5itxphwy",
        "outputId": "764ff169-fb3c-4643-c693-5fbfd6fc32eb"
      },
      "execution_count": null,
      "outputs": [
        {
          "output_type": "display_data",
          "data": {
            "text/plain": [
              "<Figure size 640x480 with 1 Axes>"
            ],
            "image/png": "[encoded data removed]"
          },
          "metadata": {}
        }
      ],
      "id": "JlNV5itxphwy"
    },
    {
      "cell_type": "markdown",
      "source": [
        "b) Um sistema linear é um sistema que segue o princípio da sobreposição. Por exemplo, no caso desse sistema podemos usar como entrada, $x_1[n] = u[n]$ e uma outra entrada $x_2[n] = \\cos\\left(\\frac{\\pi n}{15}\\right)$. As saídas deste sistema em cada um dos casos são mostradas abaixo:\n"
      ],
      "metadata": {
        "id": "fp9wWxGTrMwR"
      },
      "id": "fp9wWxGTrMwR"
    },
    {
      "cell_type": "code",
      "source": [
        "import matplotlib.pyplot as plt\n",
        "import numpy as np\n",
        "\n",
        "plt.figure(figsize=(6,2))\n",
        "plt.subplot(1,2,1)\n",
        "N = 10\n",
        "x1 = np.ones(N)\n",
        "y1 = np.zeros(N)\n",
        "for n in range(N):\n",
        "    y1[n] = n*y1[n-1] + x1[n]\n",
        "plt.stem(y1)\n",
        "plt.title('$y_1[n]$')\n",
        "plt.subplot(1,2,2)\n",
        "x2 = np.cos(np.pi*np.arange(N)/15)\n",
        "y2 = np.zeros(N)\n",
        "for n in range(N):\n",
        "    y2[n] = n*y2[n-1] + x2[n]\n",
        "plt.stem(y2)\n",
        "plt.title('$y_2[n]$');"
      ],
      "metadata": {
        "colab": {
          "base_uri": "https://localhost:8080/",
          "height": 239
        },
        "id": "OhQrtN8OtONY",
        "outputId": "a5392e83-e368-4000-ed1c-58142841dd56"
      },
      "execution_count": null,
      "outputs": [
        {
          "output_type": "display_data",
          "data": {
            "text/plain": [
              "<Figure size 600x200 with 2 Axes>"
            ],
            "image/png": "[encoded data removed]"
          },
          "metadata": {}
        }
      ],
      "id": "OhQrtN8OtONY"
    },
    {
      "cell_type": "markdown",
      "source": [
        "Podemos agora construir um outro sinal de entrada, $x_3[n] = x_1[n] + x_2[n]$. Se esse sistema for linear, a saída do sistema para essa entrada deverá ser $y_1[n]+y_2[n]$. Abaixo estão os gráficos da saída do sistema para $x_3[n]$ e $y_1[n]+y_2[n]$."
      ],
      "metadata": {
        "id": "vyl2VDchtxfS"
      },
      "id": "vyl2VDchtxfS"
    },
    {
      "cell_type": "code",
      "source": [
        "plt.figure(figsize=(6,2))\n",
        "plt.subplot(1,2,1)\n",
        "N = 10\n",
        "x3 = np.ones(N) + np.cos(np.pi*np.arange(N)/15)\n",
        "y3 = np.zeros(N)\n",
        "for n in range(N):\n",
        "    y3[n] = n*y3[n-1] + x3[n]\n",
        "plt.stem(y3)\n",
        "plt.title('$y_3[n]$')\n",
        "plt.subplot(1,2,2)\n",
        "plt.stem(y1+y2)\n",
        "plt.title('$y_1[n]+y_2[n]$');"
      ],
      "metadata": {
        "colab": {
          "base_uri": "https://localhost:8080/",
          "height": 239
        },
        "id": "kzJqg5TIt0hh",
        "outputId": "8acdec22-d194-40d6-e561-cdbc0ffddd77"
      },
      "execution_count": null,
      "outputs": [
        {
          "output_type": "display_data",
          "data": {
            "text/plain": [
              "<Figure size 600x200 with 2 Axes>"
            ],
            "image/png": "[encoded data removed]"
          },
          "metadata": {}
        }
      ],
      "id": "kzJqg5TIt0hh"
    },
    {
      "cell_type": "markdown",
      "source": [
        "As saídas são iguais, então concluímos que o sistema é **linear**."
      ],
      "metadata": {
        "id": "33WauJCvuDnq"
      },
      "id": "33WauJCvuDnq"
    },
    {
      "cell_type": "markdown",
      "source": [
        "c) Um sistema é dito ser invariante no tempo se colocarmos a mesma entrada em momentos diferentes, as saídas obtidas serão as mesmas, exceto pela diferença no tempo. No caso do sistema em questão, não é invariante no tempo pois sempre que o tempo $n$ está multiplicando a equação, o sistema é **variante no tempo**."
      ],
      "metadata": {
        "id": "DtRIGtMMtMZA"
      },
      "id": "DtRIGtMMtMZA"
    },
    {
      "cell_type": "markdown",
      "source": [
        "**5)**\n",
        "\n",
        "a) causal, pois depende apenas dos valores até o instante $n$.\n",
        "\n",
        "b) causal, pois depende apenas dos valores até o instante $n$.\n",
        "\n",
        "c) causal, pois depende apenas dos valores até o instante $n$.\n",
        "\n",
        "d) não-causal, pois depende de valores em instantes maiores do que $n$.\n",
        "\n",
        "e) causal, pois depende apenas dos valores até o instante $n$."
      ],
      "metadata": {
        "id": "QORLGczrmnTy"
      },
      "id": "QORLGczrmnTy"
    },
    {
      "cell_type": "markdown",
      "source": [
        "**6)**\n",
        "\n",
        "a)\n",
        "$y[n] = ay[n-1] + x[n]$\n",
        "\n",
        "$h[n] = ah[n-1] + δ[n]$\n",
        "\n",
        "$n=0, h[0] = ah[-1] + δ[0] = 1$\n",
        "\n",
        "$n=1, h[1] = ah[0] + δ[1] = a$\n",
        "\n",
        "$n=2, h[2] = ah[1] + δ[2] = a^2$\n",
        "\n",
        "$n=3, h[3] = ah[2] + δ[3] = a^3$\n",
        "\n",
        "$n=4, h[4] = ah[3] + δ[4] = a^4$\n",
        "\n",
        "$portanto, h[n] = a^nu[n]$\n",
        "\n",
        "b) O sistema é estável quando $|a| < 1$. Caso contrário a saída aumenta exponencialmente, pois a resposta ao impulso em função da constante é $a^n$."
      ],
      "metadata": {
        "id": "qrHkDLUJiZfL"
      },
      "id": "qrHkDLUJiZfL"
    }
  ],
  "metadata": {
    "kernelspec": {
      "display_name": "Python 3 (ipykernel)",
      "language": "python",
      "name": "python3"
    },
    "language_info": {
      "codemirror_mode": {
        "name": "ipython",
        "version": 3
      },
      "file_extension": ".py",
      "mimetype": "text/x-python",
      "name": "python",
      "nbconvert_exporter": "python",
      "pygments_lexer": "ipython3",
      "version": "3.10.11"
    },
    "colab": {
      "provenance": []
    }
  },
  "nbformat": 4,
  "nbformat_minor": 5
}