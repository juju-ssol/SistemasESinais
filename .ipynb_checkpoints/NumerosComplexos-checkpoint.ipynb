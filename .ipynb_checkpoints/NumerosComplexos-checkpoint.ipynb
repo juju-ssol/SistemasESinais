{
  "cells": [
    {
      "cell_type": "markdown",
      "id": "9aa0047b-7f22-48e0-926a-0770e2defffa",
      "metadata": {
        "editable": true,
        "tags": [],
        "id": "9aa0047b-7f22-48e0-926a-0770e2defffa"
      },
      "source": [
        "# Revisão de números complexos\n",
        "\n",
        "Renato Naville Watanabe"
      ]
    },
    {
      "cell_type": "markdown",
      "id": "7ea5ef2d-f5e4-4216-8a63-08517dc35544",
      "metadata": {
        "id": "7ea5ef2d-f5e4-4216-8a63-08517dc35544"
      },
      "source": [
        "## Preparação do ambiente"
      ]
    },
    {
      "cell_type": "code",
      "execution_count": null,
      "id": "d743547e-c534-45ae-ba60-b007bf05f02c",
      "metadata": {
        "id": "d743547e-c534-45ae-ba60-b007bf05f02c"
      },
      "outputs": [],
      "source": [
        "try:\n",
        "  from google.colab import output\n",
        "  output.enable_custom_widget_manager()\n",
        "  IN_COLAB = True\n",
        "except:\n",
        "  IN_COLAB = False\n",
        "\n",
        "if IN_COLAB: \n",
        "  !pip install ipympl\n",
        "  from IPython.display import clear_output \n",
        "  !sudo apt update\n",
        "  !sudo apt install libcairo2-dev ffmpeg \\\n",
        "       texlive texlive-latex-extra texlive-fonts-extra \\\n",
        "       texlive-latex-recommended texlive-science \\\n",
        "       tipa libpango1.0-dev\n",
        "  !pip install manim\n",
        "  !pip install IPython --upgrade\n",
        "  clear_output()\n",
        "  # Se estiver no Colab, reiniciar o ambiente após executar esta célula "
      ]
    },
    {
      "cell_type": "code",
      "execution_count": null,
      "id": "08e8c5e3-5f0d-4660-bad8-2edeb9e596f0",
      "metadata": {
        "id": "08e8c5e3-5f0d-4660-bad8-2edeb9e596f0"
      },
      "outputs": [],
      "source": [
        "import matplotlib.pyplot as plt\n",
        "import numpy as np\n",
        "from manim import *\n",
        "from manim.utils.color import Colors\n",
        "config.media_width = \"75%\"\n",
        "config.verbosity = \"WARNING\""
      ]
    },
    {
      "cell_type": "markdown",
      "id": "fd464017-f8ed-4188-8596-0ff71b0bd501",
      "metadata": {
        "editable": true,
        "tags": [],
        "id": "fd464017-f8ed-4188-8596-0ff71b0bd501"
      },
      "source": [
        "## Definição\n",
        "\n",
        "Um número complexo pode ser expresso de diferentes formas. A forma mais comum (e menos útil para nós) é a forma cartesiana:\n",
        "\n",
        "$z = x + jy$\n",
        "\n",
        "Nessa representação, $x$ é a parte real de $z$ ($x=\\Re\\{z\\}$), $y$ é a parte imaginária de $z$ ($y = \\Im\\{z\\}$) e $j = \\sqrt{-1}$ é a unidade imaginária."
      ]
    },
    {
      "cell_type": "code",
      "execution_count": null,
      "id": "d19834b6-2727-4282-88d9-20f6a1e53744",
      "metadata": {
        "editable": true,
        "tags": [
          "hide-input"
        ],
        "id": "d19834b6-2727-4282-88d9-20f6a1e53744",
        "outputId": "24aca6c5-737d-42a7-b4ac-3de5eda68464"
      },
      "outputs": [
        {
          "data": {
            "image/png": "[encoded data removed]",
            "text/plain": [
              "<Figure size 1000x1000 with 1 Axes>"
            ]
          },
          "metadata": {},
          "output_type": "display_data"
        }
      ],
      "source": [
        "fig, ax = plt.subplots(figsize=(10,10))\n",
        "ax.scatter([0.7], [0.8])\n",
        "ax.annotate('', [0.5,1], [0.5,0.5], arrowprops={})\n",
        "ax.annotate('', [1,0.5], [0.5,0.5], arrowprops={})\n",
        "ax.annotate('$\\Re\\{z\\}$', [1,0.5], fontsize=15)\n",
        "ax.annotate('$\\Im\\{z\\}$', [0.5,1], fontsize=15)\n",
        "plt.plot([0.7,0.7], [0.5, 0.8], 'k--')\n",
        "plt.plot([0.5,0.7], [0.8, 0.8], 'k--')\n",
        "plt.plot([0.5,0.7], [0.5, 0.8], 'k-')\n",
        "plt.annotate('$x$', [0.69, 0.465], fontsize=15)\n",
        "plt.annotate('$y$', [0.465, 0.8], fontsize=15)\n",
        "plt.annotate('$z$', [0.71, 0.81], fontsize=15)\n",
        "plt.annotate(r'$\\theta$', [0.56, 0.54], fontsize=15)\n",
        "plt.annotate('$r$', [0.6, 0.7], fontsize=15)\n",
        "plt.plot(0.5 + 0.07*np.cos(np.arange(0,1, 0.01)), \n",
        "         0.5 + 0.07*np.sin(np.arange(0, 1, 0.01)), '--')\n",
        "\n",
        "ax.set_axis_off()\n",
        "ax.set_aspect('equal', 'box')\n",
        "plt.xlim(0.4,1)\n",
        "plt.ylim(0.4,1)\n",
        "plt.show()"
      ]
    },
    {
      "cell_type": "markdown",
      "id": "20f3e2cb-e188-41c3-b1bc-60a8e180c9b4",
      "metadata": {
        "editable": true,
        "tags": [],
        "id": "20f3e2cb-e188-41c3-b1bc-60a8e180c9b4"
      },
      "source": [
        "Na figura acima é mostrado o plano complexo. Nele a parte real é a abscissa e parte imaginária é a ordenada. Como é possível observar o número $z$ pode pode ser escrito como:\n",
        "\n",
        "$$z = r\\cos(\\theta)+rj\\mathrm{sen}(\\theta) = r(\\cos(\\theta)+j\\mathrm{sen}(\\theta))$$\n",
        "\n",
        "Nessa representação é fácil ver qual o módulo de $z$: $|z| = \\sqrt{x^2+y^2} = \\sqrt{r^2\\cos(\\theta)^2+r^2\\mathrm{sen}(\\theta)^2} = r$. Isso vem do Teorema de Pitágoras.\n",
        "\n",
        "Dessa forma, é possível notar que um número complexo $z$ pode ser representado por dois números: o seu módulo $r$ e a sua fase $\\theta$."
      ]
    },
    {
      "cell_type": "markdown",
      "id": "aab65d95-a168-4e0b-b39f-3ace27808979",
      "metadata": {
        "editable": true,
        "tags": [],
        "id": "aab65d95-a168-4e0b-b39f-3ace27808979"
      },
      "source": [
        "A partir da última relação chegamos a uma outra forma de representar um número complexa: a forma polar com exponencial complexa. Essa relação é a mais útil para nós, pois permite mexer com números complexos de forma mais simples e nos trazer mais informações do que na forma polar (apesar de não ser muito intuitiva). Essa relação vem da fórmula de Euler-Moivre:\n",
        "\n",
        "$$z = r\\cos(\\theta) + jr\\mathrm{sen}(\\theta) = re^{j\\theta}$$\n",
        "\n",
        "Essa relação pode ser demonstrada, por exemplo, utilizando Séries de Taylor.\n",
        "\n",
        "A relação entre as duas formas se dá pelas seguintes expressões:\n",
        "\n",
        "- o valor de $r$ é o valor de |z| (módulo de $z$): $r = \\sqrt{x^2+y^2}$\n",
        "\n",
        "- o valor de $\\theta$ é a o valor de $\\angle{z}$ (fase de $z$): $\\theta = \\arctan\\left(\\frac{y}{x} \\right)$\n",
        "\n",
        "- $x$ é a parte real de $z$: $x = r\\cos(\\theta)$\n",
        "\n",
        "- $y$ é a parte imaginária de $z$: $y = r\\mathrm{sen}(\\theta)$\n",
        "\n",
        "Outra relação é que o complexo conjugado de um número $z$ é o número com fase com o sinal trocado: $z = re^{j\\theta} \\rightarrow \\bar{z} = re^{-j\\theta}$.\n"
      ]
    },
    {
      "cell_type": "code",
      "execution_count": null,
      "id": "3eb688ed-c9bb-4bd4-9930-af52daaf30aa",
      "metadata": {
        "editable": true,
        "tags": [],
        "id": "3eb688ed-c9bb-4bd4-9930-af52daaf30aa",
        "outputId": "b9ebb452-b33c-40b9-b0de-f1713996da0c"
      },
      "outputs": [
        {
          "data": {
            "image/png": "[encoded data removed]",
            "text/plain": [
              "<Figure size 1000x1000 with 1 Axes>"
            ]
          },
          "metadata": {},
          "output_type": "display_data"
        }
      ],
      "source": [
        "fig, ax = plt.subplots(figsize=(10,10))\n",
        "ax.scatter([0.7], [0.8])\n",
        "ax.annotate('', [0.5,1], [0.5,0], arrowprops={})\n",
        "ax.annotate('', [1,0.5], [0,0.5], arrowprops={})\n",
        "ax.annotate('$\\Re\\{z\\}$', [1,0.5], fontsize=15)\n",
        "ax.annotate('$\\Im\\{z\\}$', [0.5,1], fontsize=15)\n",
        "plt.plot([0.7,0.7], [0.5, 0.8], 'k--')\n",
        "plt.plot([0.5,0.7], [0.8, 0.8], 'k--')\n",
        "plt.plot([0.5,0.7], [0.5, 0.8], 'k-')\n",
        "plt.annotate('$x$', [0.69, 0.465], fontsize=15)\n",
        "plt.annotate('$y$', [0.465, 0.8], fontsize=15)\n",
        "plt.annotate(r'$z=x+jy=re^{j\\theta}$', [0.71, 0.81], fontsize=15)\n",
        "plt.annotate(r'$\\theta$', [0.56, 0.54], fontsize=15)\n",
        "plt.annotate('$r$', [0.6, 0.7], fontsize=15)\n",
        "plt.plot(0.5 + 0.07*np.cos(np.arange(-1,1, 0.01)), \n",
        "         0.5 + 0.07*np.sin(np.arange(-1, 1, 0.01)), '--')\n",
        "plt.plot([0.7,0.7], [0.5, 0.2], 'k--')\n",
        "plt.plot([0.5,0.7], [0.2, 0.2], 'k--')\n",
        "plt.plot([0.5,0.7], [0.5, 0.2], 'k-')\n",
        "plt.annotate('$-y$', [0.455, 0.2], fontsize=15)\n",
        "plt.annotate(r'$\\bar{z}=x-jy=re^{-j\\theta}$', [0.71, 0.19], fontsize=15)\n",
        "plt.annotate(r'$-\\theta$', [0.56, 0.46], fontsize=15)\n",
        "\n",
        "ax.set_axis_off()\n",
        "ax.set_aspect('equal', 'box')\n",
        "plt.xlim(0,1)\n",
        "plt.ylim(0,1)\n",
        "plt.show()"
      ]
    },
    {
      "cell_type": "markdown",
      "id": "434b35d9-ad73-4635-8b76-74fd9a46497a",
      "metadata": {
        "editable": true,
        "tags": [],
        "id": "434b35d9-ad73-4635-8b76-74fd9a46497a"
      },
      "source": [
        "\n",
        "Observando o plano complexo abaixo, vemos quatro igualdades:\n",
        "    \n",
        "- $1 = e^{j0}$\n",
        "\n",
        "- $-1 = e^{j\\pi}$\n",
        "\n",
        "- $j = e^{j\\frac{\\pi}{2}}$\n",
        "\n",
        "- $-j = e^{-j\\frac{\\pi}{2}}$\n"
      ]
    },
    {
      "cell_type": "code",
      "execution_count": null,
      "id": "b608ec24-a0e8-4181-b452-9f33b028af0a",
      "metadata": {
        "editable": true,
        "tags": [],
        "id": "b608ec24-a0e8-4181-b452-9f33b028af0a",
        "outputId": "24137f39-dae3-4db3-acfb-f1a2b01725fc"
      },
      "outputs": [
        {
          "data": {
            "image/png": "[encoded data removed]",
            "text/plain": [
              "<Figure size 1000x1000 with 1 Axes>"
            ]
          },
          "metadata": {},
          "output_type": "display_data"
        }
      ],
      "source": [
        "fig, ax = plt.subplots(figsize=(10,10))\n",
        "ax.annotate('', [0.5,1], [0.5,0], arrowprops={})\n",
        "ax.annotate('', [1,0.5], [0,0.5], arrowprops={})\n",
        "ax.annotate('$\\Re\\{z\\}$', [1,0.5], fontsize=15)\n",
        "ax.annotate('$\\Im\\{z\\}$', [0.5,1], fontsize=15)\n",
        "plt.plot(0.5+0.2*np.cos(np.arange(0, 2*np.pi, 0.05)), 0.5+0.2*np.sin(np.arange(0, 2*np.pi, 0.05)))\n",
        "plt.annotate(r'$e^{j\\pi/2}=j$', [0.51, 0.72], fontsize=15)\n",
        "plt.annotate(r'$e^{-j\\pi/2}=-j$', [0.51, 0.28], fontsize=15)\n",
        "plt.annotate(r'$e^{j\\pi}=-1$', [0.31, 0.51], fontsize=15)\n",
        "plt.annotate(r'$e^{j0}=1$', [0.71, 0.51], fontsize=15)\n",
        "plt.scatter([0.5, 0.5, 0.3, 0.7], [0.7, 0.3, 0.5, 0.5], color='black', s=100)\n",
        "ax.set_axis_off()\n",
        "ax.set_aspect('equal', 'box')\n",
        "plt.xlim(0,1)\n",
        "plt.ylim(0,1)\n",
        "plt.show()"
      ]
    },
    {
      "cell_type": "markdown",
      "id": "89863fd0-961d-4780-9d10-3d589b4887e6",
      "metadata": {
        "id": "89863fd0-961d-4780-9d10-3d589b4887e6"
      },
      "source": [
        "Elevar um número complexo a uma potência é mais simples usando a representação polar. Elevar um número complexo à potência $p$ equivale simplesmente a multiplicar o ângulo $\\theta$ por $p$. "
      ]
    },
    {
      "cell_type": "markdown",
      "id": "5739351b-9364-4a4b-9500-197d7d583239",
      "metadata": {
        "editable": true,
        "tags": [],
        "id": "5739351b-9364-4a4b-9500-197d7d583239"
      },
      "source": [
        "---\n",
        "\n",
        "### Exemplo 1\n",
        "\n",
        "Elevar $z=e^{j\\frac{\\pi}{4}}$ ao cubo é:\n",
        "\n",
        "$z^3=\\left(e^{j\\frac{\\pi}{4}}\\right)^3 = e^{j\\frac{3\\pi}{4}}$\n",
        "\n",
        "Fazer essa operação na representação cartesiana seria muito complicado, mas na representação polar é uma simples multiplicação.\n",
        "\n",
        "---\n",
        "\n",
        "\n",
        "É claro que se o módulo $r$ de um número for diferente de 1, esse módulo também é elevado à mesma potência. "
      ]
    },
    {
      "cell_type": "markdown",
      "id": "7717a5e7-bc25-4cef-a46a-352ce733a73e",
      "metadata": {
        "editable": true,
        "tags": [],
        "id": "7717a5e7-bc25-4cef-a46a-352ce733a73e"
      },
      "source": [
        "---\n",
        "\n",
        "### Exemplo 2\n",
        "\n",
        "$z = 4e^{j\\pi/6} \\rightarrow  z^4 =  (4e^{j\\pi/6})^4 = 256e^{j2\\pi/3}$\n",
        "\n",
        "---"
      ]
    },
    {
      "cell_type": "markdown",
      "id": "efc67e3a",
      "metadata": {
        "editable": true,
        "tags": [],
        "id": "efc67e3a"
      },
      "source": [
        "Abaixo está uma animação mostrando um número complexo sendo elevado a várias potências. Repare que é como rotacionar o número em  torno da origem do plano complexo."
      ]
    },
    {
      "cell_type": "code",
      "execution_count": null,
      "id": "64e95e16-84ed-4c29-ad8b-d4d07e42cac5",
      "metadata": {
        "editable": true,
        "tags": [],
        "id": "64e95e16-84ed-4c29-ad8b-d4d07e42cac5",
        "outputId": "f0a2bcb4-896a-4753-c573-e73573461480"
      },
      "outputs": [
        {
          "name": "stderr",
          "output_type": "stream",
          "text": [
            "                                                                                                                       \r"
          ]
        },
        {
          "data": {
            "text/html": [
              "<video src=\"media/jupyter/MovingAngle@2023-04-26@15-52-34.mp4\" controls autoplay loop style=\"max-width: 75%;\"  >\n",
              "      Your browser does not support the <code>video</code> element.\n",
              "    </video>"
            ],
            "text/plain": [
              "<IPython.core.display.Video object>"
            ]
          },
          "metadata": {},
          "output_type": "display_data"
        }
      ],
      "source": [
        "%%manim -qm MovingAngle\n",
        "\n",
        "class MovingAngle(Scene):\n",
        "    def construct(self):\n",
        "        rotation_center = ORIGIN\n",
        "        line1 = Arrow([-3,0,0], [3,0,0], buff=0)\n",
        "        line2 = Arrow([0,-3,0], [0,3,0], buff=0)\n",
        "        theta_tracker = dict()\n",
        "        line_moving = dict()\n",
        "        line_moving[0] = Line(ORIGIN, RIGHT, color=BLACK)\n",
        "        a = dict()\n",
        "        tex = dict()\n",
        "        dot = dict()\n",
        "        texR = MathTex(r\"\\Re\").move_to((3.3, 0, 0))    \n",
        "        texI = MathTex(r\"\\Im\").move_to((0, 3.3, 0)) \n",
        "        self.add(line1, line2, texR, texI)\n",
        "        colors = [0, BLUE, RED, GREEN, YELLOW, PURPLE, MAROON, GOLD]\n",
        "        for i in range(1,8):\n",
        "            line_moving[i] = line_moving[i-1].copy() \n",
        "                     \n",
        "            \n",
        "            \n",
        "            tex[i] = MathTex(r\"e^{\\left(j\\frac{\\pi}{4}\\right)^\"+str(i)+r\"} = e^{j\\frac{\"+str(i)+r\"\\pi}{4}}\", color=colors[i]).move_to((2*np.cos(i*np.pi/4)+0.3,2*np.sin(i*np.pi/4)+0.3, 0))\n",
        "            dot[i] = Dot(color=colors[i]).move_to((2*np.cos(i*np.pi/4), 2*np.sin(i*np.pi/4), 0))\n",
        "        \n",
        "            self.add(line_moving[i])          \n",
        "     \n",
        "               \n",
        "            self.play(Rotate(line_moving[i], angle=np.pi/4, about_point=ORIGIN))\n",
        "            \n",
        "            a[i] = Angle(line_moving[i-1], line_moving[i], \n",
        "                         radius=2, other_angle=False, \n",
        "                         color=colors[i])\n",
        "            self.add(a[i], tex[i], dot[i])\n",
        "            \n",
        "            self.wait(5)\n",
        "        \n",
        "        \n",
        "        \n",
        "        \n",
        "        \n",
        "\n",
        "      "
      ]
    },
    {
      "cell_type": "markdown",
      "id": "4dfd577c-235d-4369-af9d-69e64315c391",
      "metadata": {
        "editable": true,
        "tags": [],
        "id": "4dfd577c-235d-4369-af9d-69e64315c391"
      },
      "source": [
        "## Produtos e quocientes\n",
        "\n",
        "Uma forma frequentemente encontrada na prática são produtos e quocientes de números complexos.\n",
        "\n",
        "$z = \\frac{z_{n_1}z_{n_2}z_{n_3}...z_{n_k}}{z_{d_1}z_{d_2}z_{d_3}...z_{n_m}}$\n",
        "\n",
        "Nesses casos, o módulo de $z$ é:\n",
        "\n",
        "$|z| = \\frac{|z_{n_1}||z_{n_2}||z_{n_3}|...|z_{n_k}|}{|z_{d_1}||z_{d_2}||z_{d_3}|...|z_{n_m}|}$\n",
        "\n",
        "e a fase de $z$ é:\n",
        "\n",
        "$\\angle{z} = \\angle{z_{n_1}}+\\angle{z_{n_2}}+\\angle{z_{n_3}}+...+\\angle{z_{n_k}}-\\angle{z_{d_1}}-\\angle{z_{d_2}}-\\angle{z_{d_3}}-...-\\angle{z_{n_m}}$\n",
        "\n",
        "\n",
        "A prova dessas expressões fica como exercício."
      ]
    },
    {
      "cell_type": "markdown",
      "id": "1ea2a674-4560-4a0a-907e-b69b82594e62",
      "metadata": {
        "editable": true,
        "tags": [],
        "id": "1ea2a674-4560-4a0a-907e-b69b82594e62"
      },
      "source": [
        "---\n",
        "###\n",
        "\n",
        "### Exemplo 3\n",
        "\n",
        "Considere o seguinte número complexo:\n",
        "\n",
        "$z = \\frac{(1+j)^2(1-j\\sqrt{3})}{(\\sqrt{3}+j)(2+j8)(1-j)}$\n",
        "\n",
        "Para ficar mais fácil, vamos passar cada termo para a representação polar:\n",
        "\n",
        "$1+j = \\sqrt{2}e^{j\\frac{\\pi}{4}}$\n",
        "\n",
        "$1-j\\sqrt{3} = 2e^{j\\frac{\\pi}{3}}$\n",
        "\n",
        "$\\sqrt{3}+1j = 2e^{j\\frac{\\pi}{6}}$\n",
        "\n",
        "$2+j8 = \\sqrt{20}e^{j\\arctan{4}} = \\sqrt{20}e^{j1.33}$\n",
        "\n",
        "$1-j = \\sqrt{2}e^{-j\\frac{\\pi}{4}}$\n",
        "\n",
        "Então o número $z$ pode ser reescrito como:\n",
        "\n",
        "$z = \\frac{\\sqrt{2}e^{j\\frac{\\pi}{2}}2e^{j\\frac{\\pi}{3}}}{2e^{j\\frac{\\pi}{6}}\\sqrt{20}e^{j1.33}\\sqrt{2}e^{-j\\frac{\\pi}{4}}}$\n",
        "\n",
        "Então o módulo de $z$ é:\n",
        "\n",
        "$|z| = \\frac{\\sqrt{2}2}{2\\sqrt{20}\\sqrt{2}} = \\frac{1}{\\sqrt{20}}$\n",
        "\n",
        "E a fase é:\n",
        "\n",
        "$\\angle{z} = \\frac{\\pi}{2} + \\frac{\\pi}{3} - \\frac{\\pi}{6}-1.33+\\frac{\\pi}{4} = \\frac{11\\pi}{12}-1.33 = 1.55$ rad\n",
        "\n",
        "\n",
        "\n",
        "---"
      ]
    },
    {
      "cell_type": "markdown",
      "id": "8539ebeb-903e-4c0e-b0ba-4034e9d8bbb8",
      "metadata": {
        "editable": true,
        "tags": [],
        "id": "8539ebeb-903e-4c0e-b0ba-4034e9d8bbb8"
      },
      "source": [
        "## Exercícios\n",
        "\n",
        "**1)** Expresse cada um dos seguintes números complexos na forma cartesiana ($x+jy$): $0.5e^{j\\frac{\\pi}{2}}, 0.5e^{-j\\frac{3\\pi}{2}}, 0.5e^{-j\\frac{\\pi}{2}}, \\sqrt{2}e^{j\\frac{\\pi}{4}}, \\sqrt{2}e^{-j\\frac{\\pi}{4}}, \\sqrt{2}e^{j\\frac{9\\pi}{4}}, e^{j\\frac{\\pi}{2}}, e^{5j\\frac{\\pi}{2}}, j\\sqrt{2}e^{j\\frac{9\\pi}{4}}$."
      ]
    },
    {
      "cell_type": "markdown",
      "id": "a3c198f4-56c5-4296-a45a-42de85c0e37f",
      "metadata": {
        "editable": true,
        "tags": [],
        "id": "a3c198f4-56c5-4296-a45a-42de85c0e37f"
      },
      "source": [
        "**2)** Expresse cada um dos seguintes números complexos na forma polar ($re^{j\\theta}$): $3, -4, -5j, 0.5-j\\frac{3}{2}, (1-j)^2, j(2-j), \\frac{1+j}{1-j}, \\frac{\\sqrt{2}+j\\sqrt{3}}{1+j\\sqrt{2}}$ "
      ]
    },
    {
      "cell_type": "markdown",
      "id": "0646e7bc-9c4c-43e9-9fc6-c73dc40df6f6",
      "metadata": {
        "editable": true,
        "tags": [],
        "id": "0646e7bc-9c4c-43e9-9fc6-c73dc40df6f6"
      },
      "source": [
        "**3** Faça as seguintes operações: $(1-j3)^4, [j(4-2j)]^3, (2e^{-j\\frac{3\\pi}{2}})^2$"
      ]
    },
    {
      "cell_type": "markdown",
      "id": "ece4024f-ca94-4f4b-92d1-085618515bc8",
      "metadata": {
        "editable": true,
        "tags": [],
        "id": "ece4024f-ca94-4f4b-92d1-085618515bc8"
      },
      "source": [
        "**4)** Encontre uma expressão para $\\cos(\\theta)$ e para $\\mathrm{sen}(\\theta)$ em termos de exponenciais complexas."
      ]
    },
    {
      "cell_type": "markdown",
      "id": "d20e752e",
      "metadata": {
        "editable": true,
        "tags": [],
        "id": "d20e752e"
      },
      "source": [
        "**5)** Prove que para\n",
        "\n",
        "$z = \\frac{z_{n_1}z_{n_2}z_{n_3}...z_{n_k}}{z_{d_1}z_{d_2}z_{d_3}...z_{n_m}}$\n",
        "\n",
        "O módulo de $z$ é:\n",
        "\n",
        "$|z| = \\frac{|z_{n_1}||z_{n_2}||z_{n_3}|...|z_{n_k}|}{|z_{d_1}||z_{d_2}||z_{d_3}|...|z_{n_m}|}$\n",
        "\n",
        "e a fase de $z$ é:\n",
        "\n",
        "$\\angle{z} = \\angle{z_{n_1}}+\\angle{z_{n_2}}+\\angle{z_{n_3}}+...+\\angle{z_{n_k}}-\\angle{z_{d_1}}-\\angle{z_{d_2}}-\\angle{z_{d_3}}-...-\\angle{z_{n_m}}$\n"
      ]
    },
    {
      "cell_type": "markdown",
      "id": "7b03f169",
      "metadata": {
        "editable": true,
        "tags": [],
        "id": "7b03f169"
      },
      "source": [
        "**6)** Represente as seguintes expressões complexas no formato cartesiano:\n",
        "\n",
        "a) $z_1 = \\frac{2+j3}{(-1+j)(1-j)(5+j2)}$\n",
        "\n",
        "b) $z_2 = \\frac{5e^{-j\\frac{5\\pi}{6}}(5+j2)(1+j3)}{2e^{j\\frac{\\pi}{12}}(-3+j)}$\n",
        "\n",
        "c) $z_3 = \\frac{e^{j\\frac{\\pi}{2}}(5+j6)(-2-j)(-3+j)}{(-1+j)(3-j)(8+2j)}$"
      ]
    },
    {
      "cell_type": "markdown",
      "id": "2add2cc8-a1e1-4736-8149-ea99033632a7",
      "metadata": {
        "editable": true,
        "tags": [],
        "id": "2add2cc8-a1e1-4736-8149-ea99033632a7"
      },
      "source": [
        "## Referências\n",
        "\n",
        "- Oppenheim, M.  e Willsky, S., Sistemas e Sinais, 2010\n",
        "- Brown, James, e Ruel Churchill. Variáveis complexas e aplicações. (9ª edição), 2015."
      ]
    },
    {
      "cell_type": "markdown",
      "id": "26b1bdcf-50a0-4325-b0f2-f66f06c234aa",
      "metadata": {
        "id": "26b1bdcf-50a0-4325-b0f2-f66f06c234aa"
      },
      "source": [
        "## Solução dos exercícios"
      ]
    },
    {
      "cell_type": "code",
      "execution_count": null,
      "id": "652a4ff8-8a3e-4cef-8013-11c166f2b170",
      "metadata": {
        "id": "652a4ff8-8a3e-4cef-8013-11c166f2b170"
      },
      "outputs": [],
      "source": []
    },
    {
      "cell_type": "markdown",
      "source": [
        "**1)**\n",
        "\n",
        "$0.5e^{j\\frac{\\pi}{2}}$\n",
        "\n",
        "$r = 0.5$\n",
        "\n",
        "$θ = \\frac{\\pi}{2}$\n",
        "\n",
        "\n",
        "$0.5e^{j\\frac{\\pi}{2}} = 0.5(cos(\\frac{\\pi}{2}) + jsen(\\frac{\\pi}{2})) = 0.5(0 + j1) = 0 + j0.5$"
      ],
      "metadata": {
        "id": "QTfCoEGPU61R"
      },
      "id": "QTfCoEGPU61R"
    },
    {
      "cell_type": "markdown",
      "source": [
        "$0.5e^{-j\\frac{3\\pi}{2}}$\n",
        "\n",
        "$r=0.5$\n",
        "\n",
        "$θ=-\\frac{3\\pi}{2}$\n",
        "\n",
        "$0.5e^{-j\\frac{3\\pi}{2}} = 0.5(cos(-\\frac{3\\pi}{2}) + jsen(-\\frac{3\\pi}{2})) = 0.5(0 + j(-1)) = 0 - j0.5$"
      ],
      "metadata": {
        "id": "43tBc-wIU-2P"
      },
      "id": "43tBc-wIU-2P"
    },
    {
      "cell_type": "markdown",
      "source": [
        "$0.5e^{-j\\frac{\\pi}{2}}$\n",
        "\n",
        "$r = 0.5$\n",
        "\n",
        "$θ = -\\frac{\\pi}{2}$\n",
        "\n",
        "\n",
        "$0.5e^{-j\\frac{\\pi}{2}} = 0.5(cos(-\\frac{\\pi}{2}) + jsen(-\\frac{\\pi}{2})) = 0.5(0 + j(-1)) = 0 - j0.5$"
      ],
      "metadata": {
        "id": "JatUH1plbG9q"
      },
      "id": "JatUH1plbG9q"
    },
    {
      "cell_type": "markdown",
      "source": [
        "$\\sqrt{2}e^{j\\frac{\\pi}{4}}$\n",
        "\n",
        "$r = \\sqrt{2}$\n",
        "\n",
        "$θ = \\frac{\\pi}{4}$\n",
        "\n",
        "\n",
        "$\\sqrt{2}e^{j\\frac{\\pi}{4}} = \\sqrt{2}(cos(\\frac{\\pi}{4}) + jsen(\\frac{\\pi}{4})) = \\sqrt{2}(\\frac{\\sqrt{2}}{2} + j\\frac{\\sqrt{2}}{2}) = 1 + j$"
      ],
      "metadata": {
        "id": "1ZJxZ77CbquZ"
      },
      "id": "1ZJxZ77CbquZ"
    },
    {
      "cell_type": "markdown",
      "source": [
        "$\\sqrt{2}e^{-j\\frac{\\pi}{4}}$\n",
        "\n",
        "$r = \\sqrt{2}$\n",
        "\n",
        "$θ = \\frac{-\\pi}{4}$\n",
        "\n",
        "\n",
        "$\\sqrt{2}e^{-j\\frac{\\pi}{4}} = \\sqrt{2}(cos(-\\frac{\\pi}{4}) + jsen(-\\frac{\\pi}{4})) = \\sqrt{2}(\\frac{\\sqrt{2}}{2} + j(-\\frac{\\sqrt{2}}{2})) = 1 - j$"
      ],
      "metadata": {
        "id": "VkaCmb7wcoHf"
      },
      "id": "VkaCmb7wcoHf"
    },
    {
      "cell_type": "markdown",
      "source": [
        "$\\sqrt{2}e^{j\\frac{9\\pi}{4}}$\n",
        "\n",
        "$r = \\sqrt{2}$\n",
        "\n",
        "$θ = \\frac{9\\pi}{4}$\n",
        "\n",
        "\n",
        "$\\sqrt{2}e^{j\\frac{9\\pi}{4}} = \\sqrt{2}(cos(\\frac{9\\pi}{4}) + jsen(\\frac{9\\pi}{4})) = \\sqrt{2}(-\\frac{\\sqrt{2}}{2} + j(-\\frac{\\sqrt{2}}{2})) = -1 - j$"
      ],
      "metadata": {
        "id": "gft3IuORc5dP"
      },
      "id": "gft3IuORc5dP"
    },
    {
      "cell_type": "markdown",
      "source": [
        "$e^{j\\frac{\\pi}{2}}$\n",
        "\n",
        "$r = 1$\n",
        "\n",
        "$θ = \\frac{\\pi}{2}$\n",
        "\n",
        "\n",
        "$e^{j\\frac{\\pi}{2}} = cos(\\frac{\\pi}{2}) + jsen(\\frac{\\pi}{2}) = 0 + j1 = j$"
      ],
      "metadata": {
        "id": "Gor9JMEndTIN"
      },
      "id": "Gor9JMEndTIN"
    },
    {
      "cell_type": "markdown",
      "source": [
        "$e^{5j\\frac{\\pi}{2}}$\n",
        "\n",
        "$r = 1$\n",
        "\n",
        "$θ = \\frac{5\\pi}{2}$\n",
        "\n",
        "\n",
        "$e^{5j\\frac{5\\pi}{2}} = cos(\\frac{5\\pi}{2}) + jsen(\\frac{5\\pi}{2}) = 0 + j(-1) = -j$"
      ],
      "metadata": {
        "id": "fsysZlAfdtQY"
      },
      "id": "fsysZlAfdtQY"
    },
    {
      "cell_type": "markdown",
      "source": [
        "$j\\sqrt{2}e^{j\\frac{9\\pi}{4}}$\n",
        "\n",
        "$\\sqrt{2}e^{j\\frac{\\pi}{2}}e^{j\\frac{9\\pi}{4}} = \\sqrt{2}e^{j(\\frac{\\pi}{2} + \\frac{9\\pi}{4})} = \\sqrt{2}e^{j(\\frac{17\\pi}{4})}$\n",
        "\n",
        "$r = \\sqrt{2}$\n",
        "\n",
        "$θ = \\frac{17\\pi}{4}$\n",
        "\n",
        "\n",
        "$\\sqrt{2}e^{j\\frac{17\\pi}{4}} = \\sqrt{2}(cos(\\frac{17\\pi}{4}) + jsen(\\frac{17\\pi}{4})) = \\sqrt{2}(-\\frac{\\sqrt{2}}{2} + j(-\\frac{\\sqrt{2}}{2})) = -1 - j$"
      ],
      "metadata": {
        "id": "T1KmoRgHeYpc"
      },
      "id": "T1KmoRgHeYpc"
    }
  ],
  "metadata": {
    "kernelspec": {
      "display_name": "Python 3 (ipykernel)",
      "language": "python",
      "name": "python3"
    },
    "language_info": {
      "codemirror_mode": {
        "name": "ipython",
        "version": 3
      },
      "file_extension": ".py",
      "mimetype": "text/x-python",
      "name": "python",
      "nbconvert_exporter": "python",
      "pygments_lexer": "ipython3",
      "version": "3.10.11"
    },
    "colab": {
      "provenance": []
    }
  },
  "nbformat": 4,
  "nbformat_minor": 5
}